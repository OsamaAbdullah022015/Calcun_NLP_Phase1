{
 "cells": [
  {
   "cell_type": "markdown",
   "id": "ce0dae76",
   "metadata": {},
   "source": [
    "# Importing libraries"
   ]
  },
  {
   "cell_type": "code",
   "execution_count": 1,
   "id": "cba1fce7",
   "metadata": {},
   "outputs": [],
   "source": [
    "from IPython.utils import io\n",
    "with io.capture_output() as captured:\n",
    "    import spacy\n",
    "    import re\n",
    "    import os\n",
    "    from pdf2docx import parse\n",
    "    from gensim.utils import simple_preprocess\n",
    "    from PyPDF2 import PdfReader\n",
    "    # from utils.Detectron import Detectron\n",
    "    from utils.API import API?\n",
    "    from utils.PDFExtractor import PDFExtractor\n",
    "    from utils.GraphPlotter import GraphPlotter\n",
    "    from utils.TextProcessor import TextProcessor\n",
    "    from utils.UploadFile import UploadFile\n",
    "    from utils.ERExtractor import ERExtractor\n",
    "    from utils.miscellaneous import append_to_master_csv\n",
    "    from utils.Para_table_image_extraction import get_table_image_info\n",
    "    %matplotlib inline\n",
    "\n",
    "import warnings\n",
    "warnings.filterwarnings(\"ignore\")"
   ]
  },
  {
   "cell_type": "markdown",
   "id": "c94b8281-6d6f-48a6-8402-fe08d51af977",
   "metadata": {},
   "source": [
    "# Uploading file"
   ]
  },
  {
   "cell_type": "code",
   "execution_count": 2,
   "id": "a3d7ac9a-90bc-4bde-860a-7b770fa8967a",
   "metadata": {},
   "outputs": [
    {
     "name": "stdout",
     "output_type": "stream",
     "text": [
      "Running on local URL:  http://0.0.0.0:9000\n",
      "\n",
      "To create a public link, set `share=True` in `launch()`.\n"
     ]
    },
    {
     "data": {
      "text/html": [
       "<div><iframe src=\"http://localhost:9000/\" width=\"100%\" height=\"500\" allow=\"autoplay; camera; microphone; clipboard-read; clipboard-write;\" frameborder=\"0\" allowfullscreen></iframe></div>"
      ],
      "text/plain": [
       "<IPython.core.display.HTML object>"
      ]
     },
     "metadata": {},
     "output_type": "display_data"
    },
    {
     "name": "stdout",
     "output_type": "stream",
     "text": [
      "PDF file '/private/var/folders/5h/pk7vxzxs3dz0wdvdvws7s48r0000gn/T/gradio/eb4e4e8566372f1203d1c89ad90d158eda966bcb/ClimateActionPlan2.pdf' has been uploaded and saved to ./uploads/ClimateActionPlan2.pdf\n",
      "Selected model: en_core_web_sm\n"
     ]
    }
   ],
   "source": [
    "UploadFile()"
   ]
  },
  {
   "cell_type": "markdown",
   "id": "b2506b54",
   "metadata": {},
   "source": [
    "# Initilaizing few helper functions"
   ]
  },
  {
   "cell_type": "code",
   "execution_count": 3,
   "id": "cb27afa6-b1d4-4fbf-987f-91dbddcd274e",
   "metadata": {},
   "outputs": [],
   "source": [
    "baseURL = 'http://localhost:8000/app'\n",
    "\n",
    "# File path\n",
    "file_path1 = './uploads/file_name.txt'\n",
    "\n",
    "PDF_PATH = \"\"\n",
    "# Read the content of the file\n",
    "with open(file_path1, 'r') as file:\n",
    "    PDF_PATH = file.read()\n",
    "    \n",
    "# File path\n",
    "file_path2 = './uploads/model.txt'\n",
    "\n",
    "MODEL = \"\"\n",
    "# Read the content of the file\n",
    "with open(file_path2, 'r') as file:\n",
    "    MODEL = file.read()\n",
    " \n",
    "# convert pdf to docx\n",
    "DOCX_PATH = '.'+PDF_PATH.split('.')[1]+'.docx'\n",
    "parse(PDF_PATH, DOCX_PATH)\n",
    "\n",
    "# Delete the file\n",
    "try:\n",
    "    os.remove(file_path1)\n",
    "    os.remove(file_path2)\n",
    "    \n",
    "except FileNotFoundError:\n",
    "    print(f\"File '{file_path}' not found.\")\n",
    "except Exception as e:\n",
    "    print(f\"An error occurred: {e}\")\n",
    "\n",
    "nlp = spacy.load(MODEL)\n",
    "nlp.max_length = 1500000 #or any large value, as long as you don't run out of RAM"
   ]
  },
  {
   "cell_type": "code",
   "execution_count": 4,
   "id": "86cc728b-0fe3-415e-9a47-9ba77941b1e9",
   "metadata": {},
   "outputs": [
    {
     "name": "stdout",
     "output_type": "stream",
     "text": [
      "Update and Notes:\n",
      "\n",
      "The Climate Action Plan Technical Report was developed between 2008 and 2011 in\n",
      "partnership with the VT Urban Affairs and Planning Department. The final Climate Action Plan\n",
      "was developed from the findings found in this report, but a number of noteworthy changes were\n",
      "made, particularly to the approach of dividing goals, objectives and strategies into “Community\n",
      "Strategies” and “Government Strategies”. With guidance from the Climate Action Plan\n",
      "Working Group, the goals, objectives and strategies were re-organized into three different\n",
      "segments: “Individual Actions”, “‘Let’s Get Started” strategies which are intended for a shorter-\n",
      "term implementation horizon, and “Looking Ahead” strategies, which are planned for\n",
      "implementation farther in the future, perhaps over a 5-15 year period.\n",
      "\n",
      "Chapter 1. Introduction\n",
      "\n",
      "Climate change is one of the most pressing challenges of the 21 century. The world’s\n",
      "foremost scientists have been predicting and documenting the environmental changes driven by\n",
      "carbon emissions of human-generated greenhouse gases (GHGs) for more than five decades. In\n",
      "response to this accumulating evidence, and recognizing that climate change impacts span\n",
      "political boundaries, world leaders have sought to establish, with limited success, multiple\n",
      "national and international agreements to address GHG emissions. Observing the limitations of\n",
      "national governments to meaningfully address the root causes of climate change, local\n",
      "governments around the country began to take action on their own, primarily through the U.S.\n",
      "Conference of Mayors Climate Protection Agreement. This agreement was established in\n",
      "February 2005 by Seattle Mayor, Greg Nickels, with the intention of supporting and encouraging\n",
      "local governments in their efforts to address this global challenge at the local level. By the U.S.\n",
      "Conference of Mayor’s annual meeting, held four months later in June of 2005, an additional 141\n",
      "mayors had signed on to participate.\n",
      "\n",
      "Under the Agreement, participating towns and cities commit to take following three\n",
      "actions:\n",
      "\n",
      "e Strive to meet or beat the Kyoto Protocol targets in their own communities, through\n",
      "actions ranging from anti-sprawl land-use policies to urban forest restoration projects to\n",
      "public information campaigns;\n",
      "\n",
      "e Urge their state governments, and the federal government, to enact policies and programs\n",
      "to meet or beat the greenhouse gas emission reduction target suggested for the United\n",
      "States in the Kyoto Protocol -- 7% reduction from 1990 levels by 2012; and\n",
      "\n",
      "e Urge the U.S. Congress to pass the bipartisan greenhouse gas reduction legislation, which\n",
      "would establish a national emission trading system\n",
      "\n",
      "In November of 2006, The Town of Blacksburg, joined many other American municipalities, and\n",
      "signed onto the Mayors’ Agreement as well, committing to reduce greenhouse gas (GHG)\n",
      "emissions. To those ends, Blacksburg Town Council has set a target of reducing GHGs by 80%\n",
      "below 1990 levels by 2050. To meet this target will require municipal policy initiatives, as well\n",
      "Update  and  Notes: \n",
      "The  Climate  Action  Plan  Technical  Report  was  developed  between  2008  and  2011  in \n",
      "partnership  with  the  VT  Urban  Affairs  and  Planning  Department.  The final  Climate  Action  Plan \n",
      "was  developed from  the  findings found  in  this  report,  but  a  number  of  noteworthy  changes  were \n",
      "made,  particularly  to  the  approach  of dividing  goals,  objectives  and  strategies  into  “Community \n",
      "Strategies”  and  “Government  Strategies”. \n",
      "Working  Group,  the  goals,  objectives  and  strategies  were  re-organized  into  three  different \n",
      "segments:  “Individual  Actions”,  “Let’s  Get  Started”  strategies  which  are  intended for  a  shorter- \n",
      "term  implementation  horizon,  and  “Looking  Ahead”  strategies,  which  are  planned for \n",
      "implementation farther  in  the  future,  perhaps  over  a  5-15  year  period. \n",
      "With  guidance  from  the  Climate  Action  Plan \n",
      "Chapter  1.  Introduction \n",
      "Climate  change  is  one  of  the  most  pressing  challenges  of  the  21“  century.  The  world’s \n",
      "foremost  scientists  have  been  predicting  and  documenting  the  environmental  changes  driven  by \n",
      "carbon  emissions  of  human-generated  greenhouse  gases  (GHGs)  for  more  than  five  decades.  In \n",
      "response  to  this  accumulating  evidence,  and  recognizing  that  climate  change  impacts  span \n",
      "political  boundaries,  world  leaders  have  sought  to  establish,  with  limited  success,  multiple \n",
      "national  and  international  agreements  to  address  GHG  emissions.  Observing  the  limitations  of \n",
      "national  governments  to  meaningfully  address  the  root  causes  of  climate  change,  local \n",
      "governments  around  the  country  began  to  take  action  on  their  own,  primarily  through  the  U.S. \n",
      "Conference  of  Mayors  Climate  Protection  Agreement.  This  agreement  was  established  in \n",
      "February  2005  by  Seattle  Mayor,  Greg  Nickels,  with  the  intention  of  supporting  and  encouraging \n",
      "local  governments  in  their  efforts  to  address  this  global  challenge  at  the  local  level.  By  the  U.S. \n",
      "Conference  of  Mayor’s  annual  meeting,  held  four  months  later  in  June  of  2005,  an  additional  141 \n",
      "mayors  had  signed  on  to  participate. \n",
      "Under  the  Agreement,  participating  towns  and  cities  commit  to  take  following  three \n",
      "actions: \n",
      "e \n",
      "Strive  to  meet  or  beat  the  Kyoto  Protocol  targets  in  their  own  communities,  through \n",
      "actions  ranging  from  anti-sprawl  land-use  policies  to  urban  forest  restoration  projects  to \n",
      "public  information  campaigns; \n",
      "Urge  their  state  governments,  and  the  federal  government,  to  enact  policies  and  programs \n",
      "to  meet  or  beat  the  greenhouse  gas  emission  reduction  target  suggested  for  the  United \n",
      "States  in  the  Kyoto  Protocol  --  7%  reduction  from  1990  levels  by  2012;  and \n",
      "Urge  the  U.S.  Congress  to  pass  the  bipartisan  greenhouse  gas  reduction  legislation,  which \n",
      "would  establish  a  national  emission  trading  system \n",
      "e \n",
      "e \n",
      "In  November  of  2006,  The  Town  of  Blacksburg,  joined  many  other  American  municipalities,  and \n",
      "signed  onto  the  Mayors’  Agreement  as  well,  committing  to  reduce  greenhouse  gas  (GHG) \n",
      "emissions.  To  those  ends,  Blacksburg  Town  Council  has  set  a  target  of  reducing  GHGs  by  80% \n",
      "below  1990  levels  by  2050.  To  meet  this  target  will  require  municipal  policy  initiatives,  as  well\n",
      "\n"
     ]
    }
   ],
   "source": [
    "# To read the PDF\n",
    "import PyPDF2\n",
    "# To analyze the PDF layout and extract text\n",
    "from pdfminer.high_level import extract_pages, extract_text\n",
    "from pdfminer.layout import LTTextContainer, LTChar, LTRect, LTFigure\n",
    "# To extract text from tables in PDF\n",
    "import pdfplumber\n",
    "# To extract the images from the PDFs\n",
    "from PIL import Image\n",
    "from pdf2image import convert_from_path\n",
    "# To perform OCR to extract text from images \n",
    "import pytesseract \n",
    "# To remove the additional created files\n",
    "import os\n",
    "\n",
    "# Find the PDF path\n",
    "pdf_path = PDF_PATH\n",
    "\n",
    "# create a PDF file object\n",
    "pdfFileObj = open(pdf_path, 'rb')\n",
    "# create a PDF reader object\n",
    "pdfReaded = PyPDF2.PdfReader(pdfFileObj)\n",
    "\n",
    "# Create a function to extract text\n",
    "\n",
    "def text_extraction(element):\n",
    "    # Extracting the text from the in-line text element\n",
    "    line_text = element.get_text()\n",
    "    \n",
    "    # Find the formats of the text\n",
    "    # Initialize the list with all the formats that appeared in the line of text\n",
    "    line_formats = []\n",
    "    for text_line in element:\n",
    "        if isinstance(text_line, LTTextContainer):\n",
    "            # Iterating through each character in the line of text\n",
    "            for character in text_line:\n",
    "                if isinstance(character, LTChar):\n",
    "                    # Append the font name of the character\n",
    "                    line_formats.append(character.fontname)\n",
    "                    # Append the font size of the character\n",
    "                    line_formats.append(character.size)\n",
    "    # Find the unique font sizes and names in the line\n",
    "    format_per_line = list(set(line_formats))\n",
    "    \n",
    "    # Return a tuple with the text in each line along with its format\n",
    "    return (line_text, format_per_line)\n",
    "    \n",
    "# Create a function to convert the PDF to images\n",
    "def convert_to_images(input_file,):\n",
    "    images = convert_from_path(input_file)\n",
    "    image = images[0]\n",
    "    output_file = \"PDF_image.png\"\n",
    "    image.save(output_file, \"PNG\")\n",
    "\n",
    "# Create a function to read text from images\n",
    "def image_to_text(image_path):\n",
    "    # Read the image\n",
    "    img = Image.open(image_path)\n",
    "    # Extract the text from the image\n",
    "    text = pytesseract.image_to_string(img)\n",
    "    return text# Create a function to crop the image elements from PDFs\n",
    "    \n",
    "def crop_image(element, pageObj):\n",
    "    # Get the coordinates to crop the image from the PDF\n",
    "    [image_left, image_top, image_right, image_bottom] = [element.x0,element.y0,element.x1,element.y1] \n",
    "    # Crop the page using coordinates (left, bottom, right, top)\n",
    "    pageObj.mediabox.lower_left = (image_left, image_bottom)\n",
    "    pageObj.mediabox.upper_right = (image_right, image_top)\n",
    "    # Save the cropped page to a new PDF\n",
    "    cropped_pdf_writer = PyPDF2.PdfWriter()\n",
    "    cropped_pdf_writer.add_page(pageObj)\n",
    "    # Save the cropped PDF to a new file\n",
    "    with open('cropped_image.pdf', 'wb') as cropped_pdf_file:\n",
    "        cropped_pdf_writer.write(cropped_pdf_file)\n",
    "\n",
    "# Create a function to read text from images\n",
    "def image_to_text(image_path):\n",
    "    # Read the image\n",
    "    img = Image.open(image_path)\n",
    "    # Extract the text from the image\n",
    "    text = pytesseract.image_to_string(img)\n",
    "    return text\n",
    "    \n",
    "# Create the dictionary to extract text from each image\n",
    "text_per_page = {}\n",
    "# We extract the pages from the PDF\n",
    "for pagenum, page in enumerate(extract_pages(pdf_path)):\n",
    "    # Initialize the variables needed for the text extraction from the page\n",
    "    pageObj = pdfReaded.pages[pagenum]\n",
    "    page_text = []\n",
    "    line_format = []\n",
    "    text_from_images = []\n",
    "    text_from_tables = []\n",
    "    page_content = []\n",
    "    # Initialize the number of the examined tables\n",
    "    table_num = 0\n",
    "    first_element= True\n",
    "    table_extraction_flag= False\n",
    "    # Open the pdf file\n",
    "    pdf = pdfplumber.open(pdf_path)\n",
    "    # Find the examined page\n",
    "    page_tables = pdf.pages[pagenum]\n",
    "    # Find the number of tables on the page\n",
    "    tables = page_tables.find_tables()\n",
    "\n",
    "\n",
    "    # Find all the elements\n",
    "    page_elements = [(element.y1, element) for element in page._objs]\n",
    "    # Sort all the elements as they appear in the page \n",
    "    page_elements.sort(key=lambda a: a[0], reverse=True)\n",
    "\n",
    "    # Find the elements that composed a page\n",
    "    for i,component in enumerate(page_elements):\n",
    "        # Extract the position of the top side of the element in the PDF\n",
    "        pos= component[0]\n",
    "        # Extract the element of the page layout\n",
    "        element = component[1]\n",
    "        \n",
    "        # Check if the element is a text element\n",
    "        if isinstance(element, LTTextContainer):\n",
    "            # Check if the text appeared in a table\n",
    "            if table_extraction_flag == False:\n",
    "                # Use the function to extract the text and format for each text element\n",
    "                (line_text, format_per_line) = text_extraction(element)\n",
    "                # Append the text of each line to the page text\n",
    "                page_text.append(line_text)\n",
    "                # Append the format for each line containing text\n",
    "                line_format.append(format_per_line)\n",
    "                page_content.append(line_text)\n",
    "            else:\n",
    "                # Omit the text that appeared in a table\n",
    "                pass\n",
    "\n",
    "        # Check the elements for images\n",
    "        if isinstance(element, LTFigure):\n",
    "            # Crop the image from the PDF\n",
    "            crop_image(element, pageObj)\n",
    "            # Convert the cropped pdf to an image\n",
    "            convert_to_images('cropped_image.pdf')\n",
    "            # Extract the text from the image\n",
    "            image_text = image_to_text('PDF_image.png')\n",
    "            text_from_images.append(image_text)\n",
    "            page_content.append(image_text)\n",
    "            # Add a placeholder in the text and format lists\n",
    "            page_text.append('image')\n",
    "            line_format.append('image')\n",
    "\n",
    "        # Check the elements for tables\n",
    "        if isinstance(element, LTRect):\n",
    "            # If the first rectangular element\n",
    "            if first_element == True and (table_num+1) <= len(tables):\n",
    "                # Find the bounding box of the table\n",
    "                lower_side = page.bbox[3] - tables[table_num].bbox[3]\n",
    "                upper_side = element.y1 \n",
    "                # Extract the information from the table\n",
    "                table = extract_table(pdf_path, pagenum, table_num)\n",
    "                # Convert the table information in structured string format\n",
    "                table_string = table_converter(table)\n",
    "                # Append the table string into a list\n",
    "                text_from_tables.append(table_string)\n",
    "                page_content.append(table_string)\n",
    "                # Set the flag as True to avoid the content again\n",
    "                table_extraction_flag = True\n",
    "                # Make it another element\n",
    "                first_element = False\n",
    "                # Add a placeholder in the text and format lists\n",
    "                page_text.append('table')\n",
    "                line_format.append('table')\n",
    "\n",
    "            # Check if we already extracted the tables from the page\n",
    "            if element.y0 >= lower_side and element.y1 <= upper_side:\n",
    "                pass\n",
    "            elif not isinstance(page_elements[i+1][1], LTRect):\n",
    "                table_extraction_flag = False\n",
    "                first_element = True\n",
    "                table_num+=1\n",
    "\n",
    "\n",
    "    # Create the key of the dictionary\n",
    "    dctkey = 'Page_'+str(pagenum)\n",
    "    # Add the list of list as the value of the page key\n",
    "    text_per_page[dctkey]= [page_text, line_format, text_from_images,text_from_tables, page_content]\n",
    "\n",
    "# Closing the pdf file object\n",
    "pdfFileObj.close()\n",
    "\n",
    "# Deleting the additional files created\n",
    "os.remove('cropped_image.pdf')\n",
    "os.remove('PDF_image.png')\n",
    "\n",
    "# Display the content of the page\n",
    "result = ''.join(text_per_page['Page_0'][4])\n",
    "print(result)"
   ]
  },
  {
   "cell_type": "code",
   "execution_count": 59,
   "id": "d5588a94-1e85-4fc5-a053-fe90c170ea87",
   "metadata": {},
   "outputs": [],
   "source": [
    "# import fitz  # PyMuPDF\n",
    "# from PIL import Image\n",
    "# import io\n",
    "# import os\n",
    "\n",
    "# def extract_images_from_pdf(pdf_path, output_folder):\n",
    "#     # Create the output folder if it doesn't exist\n",
    "#     os.makedirs(output_folder, exist_ok=True)\n",
    "\n",
    "#     # Open the PDF file\n",
    "#     pdf_document = fitz.open(pdf_path)\n",
    "\n",
    "#     # Iterate through each page\n",
    "#     for page_number in range(pdf_document.page_count):\n",
    "#         # Get the page\n",
    "#         page = pdf_document[page_number]\n",
    "\n",
    "#         # Get the image list from the page\n",
    "#         image_list = page.get_images(full=True)\n",
    "\n",
    "#         # Iterate through each image on the page\n",
    "#         for image_index, img in enumerate(image_list):\n",
    "#             image_index += 1\n",
    "\n",
    "#             # Get the image information\n",
    "#             base_image = pdf_document.extract_image(img[0])\n",
    "#             image_bytes = base_image[\"image\"]\n",
    "#             image_ext = base_image[\"ext\"]\n",
    "\n",
    "#             # Use Pillow to open and save the image\n",
    "#             image = Image.open(io.BytesIO(image_bytes))\n",
    "#             image_path = f\"{output_folder}/page_{page_number + 1}_image_{image_index}.{image_ext}\"\n",
    "#             image.save(image_path)\n",
    "\n",
    "#     # Close the PDF file\n",
    "#     pdf_document.close()\n",
    "\n",
    "# pdf_path = \"./uploads/Blacksburg_Climate_Vulnera.pdf\"\n",
    "# output_folder = \"./extracted_data/Blacksburg_Climate_Vulnera/\"\n",
    "\n",
    "# extract_images_from_pdf(pdf_path, output_folder)\n"
   ]
  },
  {
   "cell_type": "code",
   "execution_count": 5,
   "id": "5c9e8bc4-e885-4e30-8ddb-0079e2168b64",
   "metadata": {},
   "outputs": [],
   "source": [
    "# import fitz  # PyMuPDF\n",
    "\n",
    "# def extract_tables_from_pdf(pdf_path):\n",
    "#     # Open the PDF file\n",
    "#     pdf_document = fitz.open(pdf_path)\n",
    "\n",
    "#     # Iterate through each page\n",
    "#     for page_number in range(pdf_document.page_count):\n",
    "#         # Get the page\n",
    "#         page = pdf_document[page_number]\n",
    "\n",
    "#         # Get the text from the page\n",
    "#         page_text = page.get_text()\n",
    "\n",
    "#         # Process the text to identify tables (a simple example)\n",
    "#         tables = process_text_for_tables(page_text)\n",
    "\n",
    "#         # Print or process the extracted tables as needed\n",
    "#         for table in tables:\n",
    "#             print(table)\n",
    "\n",
    "#     # Close the PDF file\n",
    "#     pdf_document.close()\n",
    "\n",
    "# def process_text_for_tables(page_text):\n",
    "#     # This is a simple example; you might need a more sophisticated approach\n",
    "#     # to identify and extract tables from the text.\n",
    "\n",
    "#     # Split the text into lines\n",
    "#     lines = page_text.split('\\n')\n",
    "\n",
    "#     # Placeholder for detected tables\n",
    "#     tables = []\n",
    "\n",
    "#     # Iterate through lines and identify tables\n",
    "#     current_table = []\n",
    "#     for line in lines:\n",
    "#         if line.strip():  # Non-empty line\n",
    "#             current_table.append(line)\n",
    "#         elif current_table:  # Empty line and there's content in the current table\n",
    "#             tables.append(current_table)\n",
    "#             current_table = []\n",
    "\n",
    "#     return tables\n",
    "\n",
    "# pdf_path = \"./uploads/Blacksburg_Climate_Vulnera.pdf\"\n",
    "# extract_tables_from_pdf(pdf_path)\n"
   ]
  },
  {
   "cell_type": "code",
   "execution_count": 6,
   "id": "ed5955b8-41dd-48d4-86d6-4c3d0d07b1b8",
   "metadata": {},
   "outputs": [],
   "source": [
    "# # STEP 1 \n",
    "# # import libraries \n",
    "# import fitz \n",
    "# import io \n",
    "# from PIL import Image \n",
    "\n",
    "# # STEP 2 \n",
    "# # file path you want to extract images from \n",
    "# file = \"./uploads/Blacksburg_Climate_Vulnera.pdf\"\n",
    "\n",
    "# # open the file \n",
    "# pdf_file = fitz.open(file) \n",
    "\n",
    "# # STEP 3 \n",
    "# # iterate over PDF pages \n",
    "# for page_number in range(len(pdf_file)): \n",
    "\n",
    "# \t# get the page itself \n",
    "# \tpage = pdf_file[page_number] \n",
    "# \timage_list = page.get_images(full=True)\n",
    "\n",
    "# \t# printing number of images found in this page \n",
    "# \tif image_list: \n",
    "# \t\tprint(f\"[+] Found a total of {len(image_list)} images in page {page_index}\") \n",
    "# \telse: \n",
    "# \t\tprint(\"[!] No images found on page\", page_index) \n",
    "# \tfor image_index, img in enumerate(page.get_images(full=True), start=1): \n",
    "\n",
    "# \t\t# get the XREF of the image \n",
    "# \t\txref = img[0] \n",
    "\n",
    "# \t\t# extract the image bytes \n",
    "# \t\tbase_image = pdf_file.extract_image(xref) \n",
    "# \t\timage_bytes = base_image[\"image\"] \n",
    "\n",
    "# \t\t# get the image extension \n",
    "# \t\timage_ext = base_image[\"ext\"] \n"
   ]
  },
  {
   "cell_type": "code",
   "execution_count": 7,
   "id": "9792d85a-991d-4036-b9a9-689f907e5c93",
   "metadata": {},
   "outputs": [],
   "source": [
    "# combined_df, image_df, table_list = get_table_image_info(DOCX_PATH)"
   ]
  },
  {
   "cell_type": "code",
   "execution_count": 8,
   "id": "5d40a9ed-9ad1-48c0-a700-7bc81c8d5241",
   "metadata": {},
   "outputs": [],
   "source": [
    "# combined_df.head(50)"
   ]
  },
  {
   "cell_type": "code",
   "execution_count": 9,
   "id": "4fdeff72-cfe2-44e9-83ca-2d50a4909c47",
   "metadata": {},
   "outputs": [],
   "source": [
    "# image_df[image_df['image_index']==1]['image_base64_string'].tolist()"
   ]
  },
  {
   "cell_type": "code",
   "execution_count": 10,
   "id": "a6957e1f-9432-43eb-8998-ca1fa7d65412",
   "metadata": {},
   "outputs": [],
   "source": [
    "# image_df"
   ]
  },
  {
   "cell_type": "code",
   "execution_count": 11,
   "id": "6f13d0f8-245b-4c44-9e8a-7a4df3e7e0f0",
   "metadata": {},
   "outputs": [],
   "source": [
    "# table_list[5]"
   ]
  },
  {
   "cell_type": "code",
   "execution_count": 4,
   "id": "4aa83d2b-21d6-498e-9dbd-50014546fd06",
   "metadata": {},
   "outputs": [],
   "source": [
    "# detectron = Detectron(PDF_PATH)\n",
    "pdf_extractor = PDFExtractor(PDF_PATH)\n",
    "text_processor = TextProcessor(pdf_extractor.extract_sentences())\n",
    "er_extractor = ERExtractor(MODEL)"
   ]
  },
  {
   "cell_type": "markdown",
   "id": "d6957942-3e4e-4961-8206-806dc2c2c3cf",
   "metadata": {},
   "source": [
    "# Extracting using Detectron2"
   ]
  },
  {
   "cell_type": "code",
   "execution_count": 5,
   "id": "317442d2-d20c-41ee-a1f4-337220524aa7",
   "metadata": {},
   "outputs": [],
   "source": [
    "# # Detecting\n",
    "# detections = []\n",
    "# pdf = PdfReader(PDF_PATH)\n",
    "# for i in range(len(pdf.pages)):\n",
    "#   detected_layout, page_image = detectron.detect_and_draw_boxes(i)\n",
    "#   detections.append(detected_layout)"
   ]
  },
  {
   "cell_type": "code",
   "execution_count": 6,
   "id": "7ce4dd39-f4fb-46ad-b0ad-5aaa095dd2fe",
   "metadata": {},
   "outputs": [],
   "source": [
    "# # Extracting\n",
    "# final_text = \"\"\n",
    "# for i in range(len(pdf.pages)):\n",
    "#     print('Page: ', i+1, '\\n')\n",
    "#     detectron.extract(detections[i],i)"
   ]
  },
  {
   "cell_type": "markdown",
   "id": "8c7f857b",
   "metadata": {},
   "source": [
    "# Finding Key - Value Pairs"
   ]
  },
  {
   "cell_type": "code",
   "execution_count": 31,
   "id": "b2218efd-d3e7-4791-96a2-c64feae18a07",
   "metadata": {},
   "outputs": [
    {
     "name": "stdout",
     "output_type": "stream",
     "text": [
      "tesseract 5.3.3\n",
      " leptonica-1.83.1\n",
      "  libgif 5.2.1 : libjpeg 8d (libjpeg-turbo 3.0.0) : libpng 1.6.40 : libtiff 4.6.0 : zlib 1.2.11 : libwebp 1.3.2 : libopenjp2 2.5.0\n",
      " Found NEON\n",
      " Found libarchive 3.7.2 zlib/1.2.11 liblzma/5.4.4 bz2lib/1.0.8 liblz4/1.9.4 libzstd/1.5.5\n",
      " Found libcurl/8.4.0 SecureTransport (LibreSSL/3.3.6) zlib/1.2.12 nghttp2/1.55.1\n"
     ]
    }
   ],
   "source": [
    "from img2table.document import PDF\n",
    "from img2table.ocr import TesseractOCR\n",
    "\n",
    "# Instantiation of OCR\n",
    "ocr = TesseractOCR(n_threads=1, lang=\"eng\")\n",
    "\n",
    "# Instantiation of document, either an image or a PDF\n",
    "doc = PDF('./uploads/ClimateActionPlan.pdf')\n",
    "\n",
    "# Table extraction\n",
    "extracted_tables = doc.extract_tables(ocr=ocr,\n",
    "                                      implicit_rows=True,\n",
    "                                      borderless_tables=True,\n",
    "                                      min_confidence=5)"
   ]
  },
  {
   "cell_type": "code",
   "execution_count": 49,
   "id": "605d7481-8b40-47fd-a88a-22e3de27adab",
   "metadata": {},
   "outputs": [
    {
     "name": "stdout",
     "output_type": "stream",
     "text": [
      "Filtered Paragraphs Containing 'Growth':\n",
      "['2 ', ' Update and Notes:  ', 'The Climate Action Plan Technical Report was developed between 2008 and 2011 in ', 'partnership with the VT Urban Affairs and Planning Department.  The final Climate Action Plan ', 'was developed from the findings found in this report, but a numb er of noteworthy changes were ', 'made, particularly to the approach of dividing goals, objectives and strategies into “Community ', 'Strategies” and “Government Strategies”.  With guidance from the Climate Action Plan ', 'Working Group, the goals, objectives and stra tegies were re -organized into three different ', 'segments: “Individual Actions”, “Let’s Get Started” strategies which are intended for a shorter -', 'term implementation horizon, and “Looking Ahead” strategies, which are planned for ', 'implementation farther in the f uture, perhaps over a 5 -15 year period.   ', 'Chapter 1.  Introduction  ', 'Climate change is one of the most pressing challenges of the 21st century. The world’s ', 'foremost scientists have been predicting and documenting the environmental changes driven by ', 'carbon em issions of human -generated greenhouse gases  (GHGs) for more than five decades. In ', 'response to this accumulating evidence, and recognizing that climate change  impacts span ', 'political boundaries, world leaders have sought to es tablish, with limited  success, multiple ', 'national and international agreements to address GHG emissions.   Observing the limitations of ', 'national governments to meaningfully address the root causes of climate change, local ', 'governments around the country began to take action on their own, pr imarily through the U.S. ', 'Conference of Mayor s Climate Protection Agreement.  This agreement was established in ', 'February 2005  by Seattle Mayor, Greg Nickels, with the intention of  supporting and encouraging ', 'local governments in their efforts to address this  global challenge at the local level.  By the U.S. ', 'Conference of Mayor’s annual meeting, held four months later in June of 2005, an additional 141 ', 'mayors had signed on to participate.  ', 'Under the  Agreement, participating towns and cities  commit to take foll owing three ', 'actions:  ', '\\uf0b7 Strive to meet or beat the Kyoto Protocol targets in their own communities, through ', 'actions ranging from anti -sprawl land -use policies to urban forest restoration projects to ', 'public information campaigns;  ', '\\uf0b7 Urge their state governments , and the federal government, to enact policies and programs ', 'to meet or beat the greenhouse gas emission reduction target suggested for the United ', 'States in the Kyoto Protocol -- 7% reduction f rom 1990 levels by 2012; and  ', '\\uf0b7 Urge the U.S. Congress to pass th e bipartisan greenhouse gas reduction legislation, which ', 'would establish a national emission trading system   ', ' ', 'In November  of 2006, The Town of Blacksburg, joined many other American municipalities, and ', 'signed onto the Mayors ’ Agreement as well, committing to reduce greenhouse gas (GHG) ', 'emissions.  To those ends, Blacksburg Town Council has set a target of reducing GHGs by 80% ', 'below 1990 levels by 20 50. To meet this target will require municipal policy initiatives, a s well ', '3 ', ' as  collaboration and partnerships between citizens, businesses, and institutions to reduce energy ', 'waste .  and reduce the overall carbon footprint of the Town.  ', 'This Climate Action Plan (CAP) describes the Town of Blacksburg’s desire to reduce ', 'energy use and greenhouse gas (GHG) emissions in Blacksburg . The opportunities for achieving ', 'these reductions are primarily through energy efficiency  and conservation , renewable energy use, ', 'alternative transportation, and community design.   This Climate Action plan details those ', 'primary avenues for redu cing overall energy use as well as t he Town’s goals, objectives, and ', 'strategies for pursuing those opportunities.  ', 'Blacksburg is an attractive and thriving community located in the mountains of ', 'Southwest Virginia. Known as being a “Special Place”, Blacksbu rg is renowned for its quality of ', 'life, natural beauty, civic pride, and educational leadership. Its population of more than 43,000 ', 'residents in 2006 includes a diverse mix of students, professionals, retirees, and workers in local ', 'industries and commercia l establishments. The Town of Blacksburg is a “whole life community” ', 'with varied housing opportunities and neighborhoods; emphasizes economic development within ', 'its historical downtown area; and promotes environmental stewardship that includes protecting ', 'its natural surroundings, open space, and watersheds. The Town of Blacksburg is also noted for ', 'its open government, strong citizen involvement, and commitment to  regional  collaboration with ', 'the surrounding counties and towns of the New River Valley and beyo nd.  ', 'Blacksburg is home to Virginia Tech Polytechnic Institute and State University (Virginia ', 'Tech), the state’s larg est research university, with 6,900  faculty and staff members and  just over  ', '28,800 students as of 2013 .  These students, faculty, and staff  come from across the world to ', 'study and work and they contribute immeasurably to the Town’s lively intellectual quality. Their ', 'presence offers a unique set of opportunities, as students often use Blacksburg as a “living ', 'laboratory” , engaging their particu lar area of scholarship to explore real -world challenges the ', 'Town is facing, and in return receive practical, hands -on experience in  their respective fields. ', 'Also, since Virginia Tech uses the most electricity, and generates the most GHGs in the area, it i s ', 'essential that the university and the Town work together to investigate their energy policies and ', 'reduce their respective carbon footprints. The composi tion of the Mayor’s Task F orce on Climate ', 'Protection and Sustainability reflects the collaborative nat ure of this effort : Town staff and ', 'officials, VT faculty, students and administrators, citizens, businesses, and non -governmental ', 'organizations are working together to lead Blacksburg toward a sustainable energy future . The ', 'CAP focuses its recommendations  on clean and renewable energy sources, energy efficiency, ', 'community design and transportation options to  reduce vehicle emissions, and informed citizens ', 'practicing energy conservation  in their homes and businesses . ', '1.1.  Sustainability  and Climate Action Planning in Blacksburg  ', '1.1.1. Town’s Work to Date on Environmental Sustainability  ', 'One of the  goals of Blacksburg’s Comprehensive Plan, Blacksburg 2046 , is to retain the ', 'beauty and functions of the natural and rural environments that characterize Blacksburg. T he ', 'Town  works with numerous local partners  and local non -governmental organizations (NGO) to ', '4 ', ' collaborate on initiatives that promote sustainability in the area.   As a result of these and other ', 'efforts, t he Town is designated  an Ex emplary Environmental Enterprise (E3) by the Virginia ', 'Department of Environmental Quality . After the Town  became a signatory to the Mayor’s ', 'Climate Protection agreement in 2006 , it established the Mayor’s Task Force on Climate ', 'Protection and Sustainability  to assist staff with implementation of the agreement.  The Town ', 'joined ICLEI Local Governments for Sustainability in 2007.  In addition to steps the Town  of ', 'Blacksburg  has taken on Climate Action Planning, the Town has also implemented numerous ', 'other sustainability initiatives  in recent years , including:  ', '\\uf0b7 Adopted a policy that requires the US Green Building Council (USGBC) LEED Silver ', 'designation for all new building construction or renovation over 5,000 sq. ft.  ', '\\uf0b7 Adopted a Green Fleet Policy that encourages the purchase of low emitting, fuel efficient ', 'vehicles.  ', '\\uf0b7 Adopted a Green Commuting Policy and provides free transit service for Town ', 'employees.  ', '\\uf0b7 Has provided curbside recycling to Town residents since 1992.  ', '\\uf0b7 Has hosted Household Hazardous Waste collection days  for over ten years.  ', '\\uf0b7 Partnered with the YMCA at Virginia Tech to provide electronics recycling to residents ', 'free of charge.  ', '\\uf0b7 Installed recycling services in all Town facilities including collection of batteries, cell ', 'phones, and other electronics.  ', '\\uf0b7 Has been designated a Tree City USA recipient for over ten years and established a ', 'Municipal Tree Nursery in 2007 to provide a minimum two -to-one replacement for trees ', 'removed on Town property.  ', '\\uf0b7 Implemented a biodiesel (B20) conversion program in 2007, which has con verted all ', 'diesel fuel vehicles in the Public Works and Parks and Recreation departments to B20 ', 'along with some Blacksburg Transit vehicles.  ', '\\uf0b7 Hosts Sustainability Week each year in conjunction with in partnership with Virginia ', 'Tech and Sustainable Blacksbu rg. This sustainability awareness and education event is ', 'scheduled to continue in the future.  ', '1.1.2. Climate Action Planning Process  ', 'On November 28, 2006 the Blacksburg Town Council passed Resolution 11 -E-06 ', 'endorsing the U.S. Mayors ’ Climate Protection A greement (USMCPA) and authorized Mayor  ', 'Ron Rordam  to sign the agreement. The Resolution directed the  Town of Blacksburg to work in ', 'conjunction with  appropriate supporting organizations  such as ICLEI  - Local Governments for ', 'Sustainability  to track progress  and access technical resources that would support  ', 'implementation of the USMCPA.  ', '5 ', ' In January 2007, Blacksburg established the Mayor’s Task Force on Climate Protection and ', 'Sustainability to implement the USMCPA  and steer the Town’s climate action planning process.  ', 'The fourteen members of the Mayor’s Task Force represent a cross -section of the community, ', 'including representatives from the Town, the University, citizens, businesses, and non -', 'governmental organizat ions The immediate goals of the Mayor’s Task Force were to prepare a ', 'community greenhouse gas inventory and emissions forecast, adopt emission reduction targets, ', 'and work with University and community partners to draft the Blacksburg Energy Conservation ', 'and Climate Action Plan (CAP).  Table 1 lists the current members of the Mayor’s Task Force on ', 'Climate Protection and Sustainability  and identifies their respective affiliations .  ', 'Table 1 -1.  Mayor’s Task Force – Fall 2009  Name  Affiliation  Mayor Ron Rordam  Mayor of Blacksburg  Pat Bixler  Executive Director of Sustainable Blacksburg  David Roper  Community Representative  Bill Claus  Community Representative  Joe Meredith  Industry Representative  Todd Holt  Industry Representative  Joyce Graham  Industry Representative  Sean McGinnis  University Representative  John Randolph  University Representative  Denny Cochrane  University Representative  Fran DeBellis  Electric Company Representative  Kelly Mattingly  Town of Blacksburg  Susan Garrison  Town of Blacksburg   ', 'Under direction and ongoing guidance from the Mayors’ Task Force, s tudents and faculty ', 'in the Urban Affairs and Planning (UAP) program at Virginia Tech gathered data on local energy ', 'consumption trends and completed the initial Town of Blacksbu rg Energy Use and Greenhouse ', 'Gas Emissions Inventory in the spring of 2008 , followed by an investigation of  greenhouse gas ', 'reduction and climate mitigation options, and  developed a framework for the eventual CAP.  A ', 'public forum was held during Sustainabi lity Week, in October 2008, during which the public ', 'asked questions, voiced ideas, and raised concerns about CAP -related issues. UAP prepared a ', 'preliminary draft of the CAP at that time, which suggested a number of initiatives to reduce ', 'GHG emissions and e valuated their approximate costs, benefits, and feasibility. This draft report ', 'was submitted to the Mayor’s Task Force for review.  ', '6 ', ' In November 2008, the Mayor’s Task Force sub -committee on climate change ', 'recommended a target for the Town of Blacksburg to reduce communitywide GHG emissions to ', '80% below 1990 levels by 2050, a number which reflects the consensus understanding from the ', 'scientific community as to the global emissions reductions that must be achieved to reduce the ', 'likelihood of catastrophic, lon g-term climate change.  This local target applies to Town ', 'operations and communitywide emissions from transportation and the residential, commercial, ', 'and industrial sectors, but does not include Virginia Tech.  Virginia Tech adopted a separate ', 'Climate Acti on Commitment and Sustainability Plan in June, 2009.  ', 'By addressing GHGs and energy use, Blacksburg aims to sustain and enhance the quality ', 'of life its residents already enjoy. Fewer GHG emissions mean improved physical health for ', 'everyone from newborns to grandparents; increased building efficiencies decrease families’ ', 'monthly utility bills; and a focus on greener development and retrofitting older buildings for ', 'increased energy efficiency  creates jobs.  ', ' ', ' ', ' ', ' ', ' 11 Chapter 2 .  Baseline and Projected Energy Sources ', 'and Uses  ', '2.1.  Baseline GHG Emissions Inventory   ', 'The Town of Blacksburg’s GHG Emissions Inventory was completed in early 2008, ', 'based on data from 2000 -2006.  This baseline inventory was subsequently updated  in early ', '2010 *, and again in 2013 .  ', 'In 2012 , the Blacksburg community, not including Virginia Tech, consumed a total of 3.0 ', 'trillion British thermal units (Btu) of end use  energy and emitted a total of 363,411 metric  tons of ', 'CO 2-equivalent GHG emissions (hereafter referred to as tons CO 2-e).  This includes all ', 'electricity, natural gas, and other fuels consumed by the Town’s residents, businesses, and ', 'institutions other than Virginia Tech .  ', 'Figure 2 -1 illustrates the total end -use energy consumption and r esulting GHG emissions ', 'by energy source  for 2012 .  Electricity represent s the largest source of energy use ( 39 percent ), ', 'followed by transportation fuels (32 percent ), and natural gas (2 8 percent ).  Other fuels – fuel oil, ', 'propane, and wood – combine for a pproximately 1 percent .  When converted to GHG emissions, ', 'electricity accounts for a far greater portion (6 8 percent ) than any other fuel source , because over ', '88 percent  of the electricity Blacksburg receives from the grid comes from coal -fired power ', 'plant s.  Burning coal generates greater GHG emissions per unit of usable energy than natural gas ', 'or transportation fuels.  Furthermore, GHG emissions are measured in terms of the fuel ', 'consumed at the point of generation, and the massive conversion and transmiss ion losses ', 'associated with coal -fired power plants mean that each unit of end -use energy consumption ', 'represents about three units of energy consumed at the power plant (i.e., only about 1/3 of the ', 'energy consumed at the power plant makes it to the consumer  as end -use electricity ', 'consumption).    ', ' ', ' ', ' ', ' * Baseline inventory updates:  ', '\\uf0b7 Revised natural gas consumption figures to adjust for the fact that the local natural gas provider, Atmos Energy, ', 'had reported natural gas consumption in apartment buildings as par t of the commercial sector.  Shifted ', 'approximately 1/3 of the reported commercial sector consumption to the residential sector (details in Appendix ', 'A). ', '\\uf0b7 Used data on natural gas consumption in TOB facilities for the years 2003 -2005 and 2008 to estimate the ', 'TOB’s yearly natural gas consumption for the years 2000 -2009.  ', '\\uf0b7 Removed VT water consumption percentages from water/wastewater energy use calculations.  ', ' ', ' ', ' 13 estimated for water and waste water  processing  and distribution  and Town of Blacksburg ', 'government operations . These combined for less than 6 percent  of total GHG emissions.  ', '2.2.  GHG Emission Projections  ', 'Estimates of future energy use and GHG emissions in Blacksburg are based on ', 'projections from the The U.S. Energy Information Administration ( EIA) Annual Energy Outlook ', '2013.  Nationwide projections from that report were compared to US population projections ', 'from the 2010 census to determine current  and projected per capita energy use and GHG ', 'emission estimates for 201 3 – 2050.   Current US per capita estimates were compared to current ', 'Blacksburg per capita energy use and GHG emissions data to determine the proportion by which ', 'the EIA projections needed to be scaled down for each sector.   Finally the resulting per capita ', 'projections for Blacksburg were multiplied by Blacksburg population projections from the ', 'Weldon Cooper Center to arrive at estimates for total energy use and GHG emissions for the ', 'town from 20 13 - 2050 .  Table 2 -1 summari zes the resulting GHG emissions projections from ', 'this analysis.  ', 'Table 2 -1.  Growth Rates and Projections by Sector / Source  * Fuel Type  Sector  2012  - 2050 ', 'AAGR  GHG Emissions (metric tons)  2012  2030  2050  Natural Gas  Residential  -0.26%  14,361  14,942  13,022  Natural Gas  Commercial  0.69%  9,589  11,706  12,445  Natural Gas  Industrial  0.37%  16,989  18,056  19,585  Natural Gas  Public ', 'Authority  0.45%  2,232  2,635  2,650    Total  0.26%  43,170  47,339  47,701        Bottled, tank, or LP gas  Residential  0.00%  93  96  93  Fuel Oil, Kerosene, etc.  Residential  -2.08%  2,569  1,785  1,155    Total  -1.97%  2,662  1,881  1,248        Electricity  Residential  0.86%  106,036  126,040  147,082  Electricity  Commercial  0.81%  79,943  93,266  108,542  Electricity  Industrial  0.43%  49,748  56,362  58,572  Electricity  Public ', 'Authority  0.83%  10,751  13,006  14,718    Total  0.76%  246,479  288,674  328,914        ']\n"
     ]
    }
   ],
   "source": [
    "import PyPDF2\n",
    "import re\n",
    "\n",
    "# Word to filter paragraphs\n",
    "word_to_filter = 'Growth'\n",
    "\n",
    "# Assuming 'text' is initialized as an empty string\n",
    "text = \"\"\n",
    "\n",
    "with open('./uploads/ClimateActionPlan.pdf', 'rb') as pdf_file:\n",
    "    pdf_reader = PyPDF2.PdfReader(pdf_file)\n",
    "    \n",
    "    # Initialize a list to store filtered paragraphs\n",
    "    filtered_paragraphs = []\n",
    "    \n",
    "    for page_num in range(len(pdf_reader.pages)):\n",
    "        page = pdf_reader.pages[page_num]\n",
    "        page_text = page.extract_text()\n",
    "        \n",
    "        # Split the page text into paragraphs based on a newline followed by either a tab on the next line or a line gap and then a tab\n",
    "        page_paragraphs = re.split(r'\\n\\t|\\n\\s*\\n\\t', page_text)\n",
    "        \n",
    "        # Filter paragraphs containing the specified word\n",
    "        matching_paragraphs = [paragraph for paragraph in page_paragraphs if re.search(word_to_filter, paragraph, re.IGNORECASE)]\n",
    "        \n",
    "        # Add the matching paragraphs to the overall list\n",
    "        filtered_paragraphs.extend(matching_paragraphs)\n",
    "\n",
    "# Display the list of filtered paragraphs\n",
    "print(f\"Filtered Paragraphs Containing '{word_to_filter}':\")\n",
    "# for paragraph in filtered_paragraphs:\n",
    "#     print(paragraph)\n",
    "print(paragraphs)"
   ]
  },
  {
   "cell_type": "code",
   "execution_count": 58,
   "id": "aac97912-dfdd-46f7-aacc-aadb6676709f",
   "metadata": {},
   "outputs": [
    {
     "name": "stdout",
     "output_type": "stream",
     "text": [
      "['Update and Notes:\\nThe Climate Action Plan Technical Report was developed between 2008 and 2011 in\\npartnership with the VT Urban Affairs and Planning Department. The final Climate Action Plan\\nwas developed from the findings found in this report, but a number of noteworthy changes were\\nmade, particularly to the approach of dividing goals, objectives and strategies into “Community\\nStrategies” and “Government Strategies”. With guidance from the Climate Action Plan\\nWorking Group, the goals, objectives and strategies were re-organized into three different\\nsegments: “Individual Actions”, “Let’s Get Started” strategies which are intended for a shorterterm implementation horizon, and “Looking Ahead” strategies, which are planned for\\nimplementation farther in the future, perhaps over a 5-15 year period.\\n\\nChapter 1. Introduction\\nClimate change is one of the most pressing challenges of the 21 st century. The world’s\\nforemost scientists have been predicting and documenting the environmental changes driven by\\ncarbon emissions of human-generated greenhouse gases (GHGs) for more than five decades. In\\nresponse to this accumulating evidence, and recognizing that climate change impacts span\\npolitical boundaries, world leaders have sought to establish, with limited success, multiple\\nnational and international agreements to address GHG emissions. Observing the limitations of\\nnational governments to meaningfully address the root causes of climate change, local\\ngovernments around the country began to take action on their own, primarily through the U.S.\\nConference of Mayors Climate Protection Agreement. This agreement was established in\\nFebruary 2005 by Seattle Mayor, Greg Nickels, with the intention of supporting and encouraging\\nlocal governments in their efforts to address this global challenge at the local level. By the U.S.\\nConference of Mayor’s annual meeting, held four months later in June of 2005, an additional 141\\nmayors had signed on to participate.\\nUnder the Agreement, participating towns and cities commit to take following three\\nactions:\\n\\uf0b7 Strive to meet or beat the Kyoto Protocol targets in their own communities, through\\nactions ranging from anti-sprawl land-use policies to urban forest restoration projects to\\npublic information campaigns;\\n\\uf0b7 Urge their state governments, and the federal government, to enact policies and programs\\nto meet or beat the greenhouse gas emission reduction target suggested for the United\\nStates in the Kyoto Protocol -- 7% reduction from 1990 levels by 2012; and\\n\\uf0b7 Urge the U.S. Congress to pass the bipartisan greenhouse gas reduction legislation, which\\nwould establish a national emission trading system\\nIn November of 2006, The Town of Blacksburg, joined many other American municipalities, and\\nsigned onto the Mayors’ Agreement as well, committing to reduce greenhouse gas (GHG)\\nemissions. To those ends, Blacksburg Town Council has set a target of reducing GHGs by 80%\\nbelow 1990 levels by 2050. To meet this target will require municipal policy initiatives, as well\\n2', 'as collaboration and partnerships between citizens, businesses, and institutions to reduce energy\\nwaste . and reduce the overall carbon footprint of the Town.\\nThis Climate Action Plan (CAP) describes the Town of Blacksburg’s desire to reduce\\nenergy use and greenhouse gas (GHG) emissions in Blacksburg. The opportunities for achieving\\nthese reductions are primarily through energy efficiency and conservation, renewable energy use,\\nalternative transportation, and community design. This Climate Action plan details those\\nprimary avenues for reducing overall energy use as well as the Town’s goals, objectives, and\\nstrategies for pursuing those opportunities.\\nBlacksburg is an attractive and thriving community located in the mountains of\\nSouthwest Virginia. Known as being a “Special Place”, Blacksburg is renowned for its quality of\\nlife, natural beauty, civic pride, and educational leadership. Its population of more than 43,000\\nresidents in 2006 includes a diverse mix of students, professionals, retirees, and workers in local\\nindustries and commercial establishments. The Town of Blacksburg is a “whole life community”\\nwith varied housing opportunities and neighborhoods; emphasizes economic development within\\nits historical downtown area; and promotes environmental stewardship that includes protecting\\nits natural surroundings, open space, and watersheds. The Town of Blacksburg is also noted for\\nits open government, strong citizen involvement, and commitment to regional collaboration with\\nthe surrounding counties and towns of the New River Valley and beyond.\\nBlacksburg is home to Virginia Tech Polytechnic Institute and State University (Virginia\\nTech), the state’s largest research university, with 6,900 faculty and staff members and just over\\n28,800 students as of 2013. These students, faculty, and staff come from across the world to\\nstudy and work and they contribute immeasurably to the Town’s lively intellectual quality. Their\\npresence offers a unique set of opportunities, as students often use Blacksburg as a “living\\nlaboratory”, engaging their particular area of scholarship to explore real-world challenges the\\nTown is facing, and in return receive practical, hands-on experience in their respective fields.\\nAlso, since Virginia Tech uses the most electricity, and generates the most GHGs in the area, it is\\nessential that the university and the Town work together to investigate their energy policies and\\nreduce their respective carbon footprints. The composition of the Mayor’s Task Force on Climate\\nProtection and Sustainability reflects the collaborative nature of this effort: Town staff and\\nofficials, VT faculty, students and administrators, citizens, businesses, and non-governmental\\norganizations are working together to lead Blacksburg toward a sustainable energy future. The\\nCAP focuses its recommendations on clean and renewable energy sources, energy efficiency,\\ncommunity design and transportation options to reduce vehicle emissions, and informed citizens\\npracticing energy conservation in their homes and businesses.\\n\\n1.1. Sustainability and Climate Action Planning in Blacksburg\\n1.1.1. Town’s Work to Date on Environmental Sustainability\\nOne of the goals of Blacksburg’s Comprehensive Plan, Blacksburg 2046, is to retain the\\nbeauty and functions of the natural and rural environments that characterize Blacksburg. The\\nTown works with numerous local partners and local non-governmental organizations (NGO) to\\n3', 'collaborate on initiatives that promote sustainability in the area. As a result of these and other\\nefforts, the Town is designated an Exemplary Environmental Enterprise (E3) by the Virginia\\nDepartment of Environmental Quality. After the Town became a signatory to the Mayor’s\\nClimate Protection agreement in 2006, it established the Mayor’s Task Force on Climate\\nProtection and Sustainability to assist staff with implementation of the agreement. The Town\\njoined ICLEI Local Governments for Sustainability in 2007. In addition to steps the Town of\\nBlacksburg has taken on Climate Action Planning, the Town has also implemented numerous\\nother sustainability initiatives in recent years, including:\\n\\uf0b7\\n\\nAdopted a policy that requires the US Green Building Council (USGBC) LEED Silver\\ndesignation for all new building construction or renovation over 5,000 sq. ft.\\n\\n\\uf0b7\\n\\nAdopted a Green Fleet Policy that encourages the purchase of low emitting, fuel efficient\\nvehicles.\\n\\n\\uf0b7\\n\\nAdopted a Green Commuting Policy and provides free transit service for Town\\nemployees.\\n\\n\\uf0b7\\n\\nHas provided curbside recycling to Town residents since 1992.\\n\\n\\uf0b7\\n\\nHas hosted Household Hazardous Waste collection days for over ten years.\\n\\n\\uf0b7\\n\\nPartnered with the YMCA at Virginia Tech to provide electronics recycling to residents\\nfree of charge.\\n\\n\\uf0b7\\n\\nInstalled recycling services in all Town facilities including collection of batteries, cell\\nphones, and other electronics.\\n\\n\\uf0b7\\n\\nHas been designated a Tree City USA recipient for over ten years and established a\\nMunicipal Tree Nursery in 2007 to provide a minimum two-to-one replacement for trees\\nremoved on Town property.\\n\\n\\uf0b7\\n\\nImplemented a biodiesel (B20) conversion program in 2007, which has converted all\\ndiesel fuel vehicles in the Public Works and Parks and Recreation departments to B20\\nalong with some Blacksburg Transit vehicles.\\n\\n\\uf0b7\\n\\nHosts Sustainability Week each year in conjunction with in partnership with Virginia\\nTech and Sustainable Blacksburg. This sustainability awareness and education event is\\nscheduled to continue in the future.\\n\\n1.1.2. Climate Action Planning Process\\nOn November 28, 2006 the Blacksburg Town Council passed Resolution 11-E-06\\nendorsing the U.S. Mayors’ Climate Protection Agreement (USMCPA) and authorized Mayor\\nRon Rordam to sign the agreement. The Resolution directed the Town of Blacksburg to work in\\nconjunction with appropriate supporting organizations such as ICLEI - Local Governments for\\nSustainability to track progress and access technical resources that would support\\nimplementation of the USMCPA.\\n\\n4', 'In January 2007, Blacksburg established the Mayor’s Task Force on Climate Protection and\\nSustainability to implement the USMCPA and steer the Town’s climate action planning process.\\nThe fourteen members of the Mayor’s Task Force represent a cross-section of the community,\\nincluding representatives from the Town, the University, citizens, businesses, and nongovernmental organizations The immediate goals of the Mayor’s Task Force were to prepare a\\ncommunity greenhouse gas inventory and emissions forecast, adopt emission reduction targets,\\nand work with University and community partners to draft the Blacksburg Energy Conservation\\nand Climate Action Plan (CAP). Table 1 lists the current members of the Mayor’s Task Force on\\nClimate Protection and Sustainability and identifies their respective affiliations.\\nTable 1-1. Mayor’s Task Force – Fall 2009\\nName\\n\\nAffiliation\\n\\nMayor Ron Rordam\\n\\nMayor of Blacksburg\\n\\nPat Bixler\\n\\nExecutive Director of Sustainable Blacksburg\\n\\nDavid Roper\\n\\nCommunity Representative\\n\\nBill Claus\\n\\nCommunity Representative\\n\\nJoe Meredith\\n\\nIndustry Representative\\n\\nTodd Holt\\n\\nIndustry Representative\\n\\nJoyce Graham\\n\\nIndustry Representative\\n\\nSean McGinnis\\n\\nUniversity Representative\\n\\nJohn Randolph\\n\\nUniversity Representative\\n\\nDenny Cochrane\\n\\nUniversity Representative\\n\\nFran DeBellis\\n\\nElectric Company Representative\\n\\nKelly Mattingly\\n\\nTown of Blacksburg\\n\\nSusan Garrison\\n\\nTown of Blacksburg\\n\\nUnder direction and ongoing guidance from the Mayors’ Task Force, students and faculty\\nin the Urban Affairs and Planning (UAP) program at Virginia Tech gathered data on local energy\\nconsumption trends and completed the initial Town of Blacksburg Energy Use and Greenhouse\\nGas Emissions Inventory in the spring of 2008, followed by an investigation of greenhouse gas\\nreduction and climate mitigation options, and developed a framework for the eventual CAP. A\\npublic forum was held during Sustainability Week, in October 2008, during which the public\\nasked questions, voiced ideas, and raised concerns about CAP-related issues. UAP prepared a\\npreliminary draft of the CAP at that time, which suggested a number of initiatives to reduce\\nGHG emissions and evaluated their approximate costs, benefits, and feasibility. This draft report\\nwas submitted to the Mayor’s Task Force for review.\\n\\n5', 'In November 2008, the Mayor’s Task Force sub-committee on climate change\\nrecommended a target for the Town of Blacksburg to reduce communitywide GHG emissions to\\n80% below 1990 levels by 2050, a number which reflects the consensus understanding from the\\nscientific community as to the global emissions reductions that must be achieved to reduce the\\nlikelihood of catastrophic, long-term climate change. This local target applies to Town\\noperations and communitywide emissions from transportation and the residential, commercial,\\nand industrial sectors, but does not include Virginia Tech. Virginia Tech adopted a separate\\nClimate Action Commitment and Sustainability Plan in June, 2009.\\nBy addressing GHGs and energy use, Blacksburg aims to sustain and enhance the quality\\nof life its residents already enjoy. Fewer GHG emissions mean improved physical health for\\neveryone from newborns to grandparents; increased building efficiencies decrease families’\\nmonthly utility bills; and a focus on greener development and retrofitting older buildings for\\nincreased energy efficiency creates jobs.\\n\\n6', 'Chapter 2. Baseline and Projected Energy Sources\\nand Uses\\n2.1. Baseline GHG Emissions Inventory\\nThe Town of Blacksburg’s GHG Emissions Inventory was completed in early 2008,\\nbased on data from 2000-2006. This baseline inventory was subsequently updated in early\\n2010*, and again in 2013.\\nIn 2012, the Blacksburg community, not including Virginia Tech, consumed a total of 3.0\\ntrillion British thermal units (Btu) of end use energy and emitted a total of 363,411 metric tons of\\nCO2-equivalent GHG emissions (hereafter referred to as tons CO2-e). This includes all\\nelectricity, natural gas, and other fuels consumed by the Town’s residents, businesses, and\\ninstitutions other than Virginia Tech.\\nFigure 2-1 illustrates the total end-use energy consumption and resulting GHG emissions\\nby energy source for 2012. Electricity represents the largest source of energy use (39 percent),\\nfollowed by transportation fuels (32 percent), and natural gas (28 percent). Other fuels – fuel oil,\\npropane, and wood – combine for approximately 1 percent. When converted to GHG emissions,\\nelectricity accounts for a far greater portion (68 percent) than any other fuel source, because over\\n88 percent of the electricity Blacksburg receives from the grid comes from coal-fired power\\nplants. Burning coal generates greater GHG emissions per unit of usable energy than natural gas\\nor transportation fuels. Furthermore, GHG emissions are measured in terms of the fuel\\nconsumed at the point of generation, and the massive conversion and transmission losses\\nassociated with coal-fired power plants mean that each unit of end-use energy consumption\\nrepresents about three units of energy consumed at the power plant (i.e., only about 1/3 of the\\nenergy consumed at the power plant makes it to the consumer as end-use electricity\\nconsumption).\\n\\n* Baseline inventory updates:\\n\\uf0b7\\n\\nRevised natural gas consumption figures to adjust for the fact that the local natural gas provider, Atmos Energy,\\nhad reported natural gas consumption in apartment buildings as part of the commercial sector. Shifted\\napproximately 1/3 of the reported commercial sector consumption to the residential sector (details in Appendix\\nA).\\n\\n\\uf0b7\\n\\nUsed data on natural gas consumption in TOB facilities for the years 2003-2005 and 2008 to estimate the\\nTOB’s yearly natural gas consumption for the years 2000-2009.\\n\\n\\uf0b7\\n\\nRemoved VT water consumption percentages from water/wastewater energy use calculations.\\n\\n11', 'estimated for water and wastewater processing and distribution and Town of Blacksburg\\ngovernment operations. These combined for less than 6 percent of total GHG emissions.\\n\\n2.2. GHG Emission Projections\\nEstimates of future energy use and GHG emissions in Blacksburg are based on\\nprojections from the The U.S. Energy Information Administration (EIA) Annual Energy Outlook\\n2013. Nationwide projections from that report were compared to US population projections\\nfrom the 2010 census to determine current and projected per capita energy use and GHG\\nemission estimates for 2013 – 2050. Current US per capita estimates were compared to current\\nBlacksburg per capita energy use and GHG emissions data to determine the proportion by which\\nthe EIA projections needed to be scaled down for each sector. Finally the resulting per capita\\nprojections for Blacksburg were multiplied by Blacksburg population projections from the\\nWeldon Cooper Center to arrive at estimates for total energy use and GHG emissions for the\\ntown from 2013 - 2050. Table 2-1 summarizes the resulting GHG emissions projections from\\nthis analysis.\\nTable 2-1. Growth Rates and Projections by Sector / Source *\\nFuel Type\\n\\nSector\\n\\n2012 - 2050 GHG Emissions (metric tons)\\nAAGR\\n2012\\n2030\\n2050\\n\\nNatural Gas\\n\\nResidential\\n\\n-0.26%\\n\\n14,361\\n\\n14,942\\n\\n13,022\\n\\nNatural Gas\\n\\nCommercial\\n\\n0.69%\\n\\n9,589\\n\\n11,706\\n\\n12,445\\n\\nNatural Gas\\n\\nIndustrial\\n\\n0.37%\\n\\n16,989\\n\\n18,056\\n\\n19,585\\n\\nNatural Gas\\n\\nPublic\\nAuthority\\n\\n0.45%\\n\\n2,232\\n\\n2,635\\n\\n2,650\\n\\nTotal\\n\\n0.26%\\n\\n43,170\\n\\n47,339\\n\\n47,701\\n\\nBottled, tank, or LP gas\\n\\nResidential\\n\\n0.00%\\n\\n93\\n\\n96\\n\\n93\\n\\nFuel Oil, Kerosene, etc.\\n\\nResidential\\n\\n-2.08%\\n\\n2,569\\n\\n1,785\\n\\n1,155\\n\\nTotal\\n\\n-1.97%\\n\\n2,662\\n\\n1,881\\n\\n1,248\\n\\nElectricity\\n\\nResidential\\n\\n0.86%\\n\\n106,036\\n\\n126,040\\n\\n147,082\\n\\nElectricity\\n\\nCommercial\\n\\n0.81%\\n\\n79,943\\n\\n93,266\\n\\n108,542\\n\\nElectricity\\n\\nIndustrial\\n\\n0.43%\\n\\n49,748\\n\\n56,362\\n\\n58,572\\n\\nElectricity\\n\\nPublic\\nAuthority\\n\\n0.83%\\n\\n10,751\\n\\n13,006\\n\\n14,718\\n\\nTotal\\n\\n0.76%\\n\\n246,479\\n\\n288,674\\n\\n328,914\\n\\n13', '']\n",
      "8\n"
     ]
    }
   ],
   "source": [
    "import re\n",
    "import textract\n",
    "#read the content of pdf as text\n",
    "text = textract.process('./uploads/ClimateActionPlan.pdf').decode('utf-8')\n",
    "#use four space as paragraph delimiter to convert the text into list of paragraphs.\n",
    "print(re.split(r'\\s{3,}',text))\n",
    "print(len(re.split(r'\\s{3,}',text)))"
   ]
  },
  {
   "cell_type": "code",
   "execution_count": 50,
   "id": "cf0f1318-4fd0-4eb4-afc1-9bf636a2c6ce",
   "metadata": {},
   "outputs": [
    {
     "name": "stdout",
     "output_type": "stream",
     "text": [
      "Filtered Paragraphs Containing 'Table 2 -1.':\n",
      " \n",
      " \n",
      " 13 estimated for water and waste water  processing  and distribution  and Town of Blacksburg \n",
      "government operations . These combined for less than 6 percent  of total GHG emissions.  \n",
      "2.2.  GHG Emission Projections  \n",
      "Estimates of future energy use and GHG emissions in Blacksburg are based on \n",
      "projections from the The U.S. Energy Information Administration ( EIA) Annual Energy Outlook \n",
      "2013.  Nationwide projections from that report were compared to US population projections \n",
      "from the 2010 census to determine current  and projected per capita energy use and GHG \n",
      "emission estimates for 201 3 – 2050.   Current US per capita estimates were compared to current \n",
      "Blacksburg per capita energy use and GHG emissions data to determine the proportion by which \n",
      "the EIA projections needed to be scaled down for each sector.   Finally the resulting per capita \n",
      "projections for Blacksburg were multiplied by Blacksburg population projections from the \n",
      "Weldon Cooper Center to arrive at estimates for total energy use and GHG emissions for the \n",
      "town from 20 13 - 2050 .  Table 2 -1 summari zes the resulting GHG emissions projections from \n",
      "this analysis.  \n",
      "Table 2 -1.  Growth Rates and Projections by Sector / Source  * Fuel Type  Sector  2012  - 2050 \n",
      "AAGR  GHG Emissions (metric tons)  2012  2030  2050  Natural Gas  Residential  -0.26%  14,361  14,942  13,022  Natural Gas  Commercial  0.69%  9,589  11,706  12,445  Natural Gas  Industrial  0.37%  16,989  18,056  19,585  Natural Gas  Public \n",
      "Authority  0.45%  2,232  2,635  2,650    Total  0.26%  43,170  47,339  47,701        Bottled, tank, or LP gas  Residential  0.00%  93  96  93  Fuel Oil, Kerosene, etc.  Residential  -2.08%  2,569  1,785  1,155    Total  -1.97%  2,662  1,881  1,248        Electricity  Residential  0.86%  106,036  126,040  147,082  Electricity  Commercial  0.81%  79,943  93,266  108,542  Electricity  Industrial  0.43%  49,748  56,362  58,572  Electricity  Public \n",
      "Authority  0.83%  10,751  13,006  14,718    Total  0.76%  246,479  288,674  328,914        \n"
     ]
    }
   ],
   "source": [
    "import PyPDF2\n",
    "import re\n",
    "\n",
    "# Word to filter paragraphs\n",
    "word_to_filter = 'Table 2 -1.'\n",
    "\n",
    "# Assuming 'text' is initialized as an empty string\n",
    "text = \"\"\n",
    "\n",
    "with open('./uploads/ClimateActionPlan.pdf', 'rb') as pdf_file:\n",
    "    pdf_reader = PyPDF2.PdfReader(pdf_file)\n",
    "    \n",
    "    # Initialize a list to store filtered paragraphs\n",
    "    filtered_paragraphs = []\n",
    "    \n",
    "    for page_num in range(len(pdf_reader.pages)):\n",
    "        page = pdf_reader.pages[page_num]\n",
    "        page_text = page.extract_text()\n",
    "        \n",
    "        # Split the page text into paragraphs based on a newline followed by either a tab on the next line or a line gap and then a tab\n",
    "        page_paragraphs = re.split(r'\\n\\t|\\n\\s*\\n\\t', page_text)\n",
    "        \n",
    "        # Filter paragraphs containing the specified word\n",
    "        matching_paragraphs = [paragraph for paragraph in page_paragraphs if re.search(word_to_filter, paragraph, re.IGNORECASE)]\n",
    "        \n",
    "        # Add the matching paragraphs to the overall list\n",
    "        filtered_paragraphs.extend(matching_paragraphs)\n",
    "\n",
    "# Display the list of filtered paragraphs\n",
    "print(f\"Filtered Paragraphs Containing '{word_to_filter}':\")\n",
    "for paragraph in filtered_paragraphs:\n",
    "    print(paragraph)\n"
   ]
  },
  {
   "cell_type": "code",
   "execution_count": 32,
   "id": "2226bdc7-a849-4083-be95-3507f36f10cb",
   "metadata": {},
   "outputs": [
    {
     "data": {
      "text/plain": [
       "{0: [],\n",
       " 1: [],\n",
       " 2: [],\n",
       " 3: [],\n",
       " 4: [],\n",
       " 5: [],\n",
       " 6: [ExtractedTable(title=Table 2-1. Growth Rates and Projections by Sector / Source *, bbox=(184, 905, 1363, 1860),shape=(15, 6))]}"
      ]
     },
     "execution_count": 32,
     "metadata": {},
     "output_type": "execute_result"
    }
   ],
   "source": [
    "extracted_tables"
   ]
  },
  {
   "cell_type": "code",
   "execution_count": 36,
   "id": "9f290549-3716-4fa6-97ce-b8d63050400d",
   "metadata": {},
   "outputs": [
    {
     "data": {
      "text/plain": [
       "'Table 2-1. Growth Rates and Projections by Sector / Source *'"
      ]
     },
     "execution_count": 36,
     "metadata": {},
     "output_type": "execute_result"
    }
   ],
   "source": [
    "extracted_tables[6][0].title"
   ]
  },
  {
   "cell_type": "code",
   "execution_count": 42,
   "id": "2976cf56-ff5b-4b99-ac42-c99e66d3420f",
   "metadata": {},
   "outputs": [
    {
     "name": "stdout",
     "output_type": "stream",
     "text": [
      "Matched Table Expressions:\n",
      "Table 2.1-1.\n"
     ]
    }
   ],
   "source": [
    "import re\n",
    "\n",
    "text = 'Table 2.1-1. Growth Rates and Projections by Sector / Source *'\n",
    "\n",
    "# Regex pattern to extract entire expressions (case-insensitive)\n",
    "pattern = r'([tT]able[-\\s]*[\\d.-]+)'\n",
    "\n",
    "# Find all matches in the text\n",
    "matches = re.findall(pattern, text)\n",
    "\n",
    "# Display the matched values\n",
    "print(\"Matched Table Expressions:\")\n",
    "for match in matches:\n",
    "    print(match)"
   ]
  },
  {
   "cell_type": "code",
   "execution_count": 15,
   "id": "63794c76",
   "metadata": {},
   "outputs": [
    {
     "name": "stdout",
     "output_type": "stream",
     "text": [
      "tesseract 5.3.3\n",
      " leptonica-1.83.1\n",
      "  libgif 5.2.1 : libjpeg 8d (libjpeg-turbo 3.0.0) : libpng 1.6.40 : libtiff 4.6.0 : zlib 1.2.11 : libwebp 1.3.2 : libopenjp2 2.5.0\n",
      " Found NEON\n",
      " Found libarchive 3.7.2 zlib/1.2.11 liblzma/5.4.4 bz2lib/1.0.8 liblz4/1.9.4 libzstd/1.5.5\n",
      " Found libcurl/8.4.0 SecureTransport (LibreSSL/3.3.6) zlib/1.2.12 nghttp2/1.55.1\n",
      "./uploads/ClimateActionPlan.xlsx\n"
     ]
    }
   ],
   "source": [
    "key_value_pairs, tables = pdf_extractor.extract_key_value_pairs()"
   ]
  },
  {
   "cell_type": "code",
   "execution_count": 8,
   "id": "0971f674-6922-43c0-b294-2d9039537bb0",
   "metadata": {},
   "outputs": [],
   "source": [
    "if tables:\n",
    "    tables[0]"
   ]
  },
  {
   "cell_type": "markdown",
   "id": "6feab1f1-99cf-4f33-bf19-18734f301ce6",
   "metadata": {},
   "source": [
    "**Creating Data Frame for ploting graph**"
   ]
  },
  {
   "cell_type": "code",
   "execution_count": 9,
   "id": "db2ff348-239d-413f-97f1-8d06bc65d9f1",
   "metadata": {},
   "outputs": [],
   "source": [
    "if key_value_pairs:\n",
    "    table_dtf = er_extractor.key_value_pair_er_extractor(key_value_pairs)"
   ]
  },
  {
   "cell_type": "markdown",
   "id": "3f78f478-f29e-4b19-9fb0-9ac5b94e75b3",
   "metadata": {},
   "source": [
    "# Plotting graphs for key value pairs"
   ]
  },
  {
   "cell_type": "code",
   "execution_count": 10,
   "id": "1ea7fe79-fc28-4503-a670-c00b86a08cce",
   "metadata": {},
   "outputs": [],
   "source": [
    "# Plotting entity based graphs and saving them\n",
    "if tables and not table_dtf.empty:\n",
    "    key_val_plotter = GraphPlotter(table_dtf, baseURL)\n",
    "    tb_entities = table_dtf['entity'].unique()\n",
    "    for entity in tb_entities:\n",
    "        # Define a regular expression pattern to match sentences with no English characters\n",
    "        non_english_pattern = r'^[^A-Za-z]*$'\n",
    "        if not re.search(non_english_pattern, entity):\n",
    "            key_val_plotter.plot_entity_based_graphs(entity)"
   ]
  },
  {
   "cell_type": "markdown",
   "id": "7b88311d",
   "metadata": {},
   "source": [
    "# Extracting text from page"
   ]
  },
  {
   "cell_type": "code",
   "execution_count": 11,
   "id": "feab9929",
   "metadata": {},
   "outputs": [
    {
     "name": "stdout",
     "output_type": "stream",
     "text": [
      "2 update and notes : the climate action plan technical report was developed between 2008 and 2011 in partnership with the vt urban affairs and planning department the final climate action plan was developed from the findings found in this report, but a numb er of noteworthy changes were made, particularly to their approach of dividing goals, objectives and strategies into “ community strategies ” and “ government strategies ” with guidance from the climate action plan working group, the goals, objectives and stra tegies were re - organized into three different segments : “ individual actions ”, “ let ’ s get started ” strategies which are intended for a shorter - term implementation horizon, and “ looking ahead developmental strategies, which are planned for implementation farther in the f uture, perhaps over a 5 - 15 year period chapter 1 introduction climate change is one of the most pressing challenges of the 21st century the world ’ s foremost scientists have been predicting and documenting the environmental changes driven by carbon em issions of human - generated greenhouse crops ( ghgs ) for more than five decades through response to this accumulating evidence, and recognizing that climate change impacts span political boundaries, world leaders have sought to es tablish, with limited success, multiple domestic and international agreements to address ghg emissions observing the limitations of national governments to meaningfully recognize the root causes of climate change, local governments outside the country began to take action on their own, pr imarily through the u. states conference of mayor s climate protection agreement this agreement was established in february 2005 by seattle mayor, greg nickels, with the intention of supporting and encouraging local governments in their efforts to address this global challenge at the local level by the u. s conference of mayor ’ s annual meeting, held four months later in june of 2005, an additional 141 mayors had signed on to work under the agreement, participating towns and cities commit to take foll owing three actions : strive to meet or beat the kyoto protocol targets in their own communities, through actions ranging from anti - sprawl sustainable - use policies to urban forest restoration projects to public information campaigns ; urge their state governments, and the federal government, to enact policies and programs to meet or beat the greenhouse gas emission reduction target suggested for the united states in the kyoto protocol - - 7 % reduction f rom 1990 levels by 2012 ; and urge the u. s congress to pass th e bipartisan greenhouse gas reduction legislation, which would establish a national emission trading system in november of 2006, the town of blacksburg, joined many other american municipalities , and signed onto the mayors ’ agreement as well, committing to reduce greenhouse gas ( ghg ) emissions to those ends, blacksburg town council has set a target of reducing ghgs by 80 % below 1990 levels by 20 50 to meet this target will require municipal policy initiatives, a s well 3 as collaboration and partnerships between citizens, businesses, and institutions to reduce energy waste and reduce the overall carbon footprint of the town this climate action plan ( cap ) describes the town of blacksburg ’ s desire to reduce energy use and greenhouse gas ( ghg ) emissions in blacksburg the opportunities for achieving these reductions are primarily through energy efficiency and conservation, renewable energy use, alternative transportation, and community design this climate action plan details those primary avenues for redu cing overall energy use as well as t he town ’ s goals, objectives, and strategies for pursuing those opportunities blacksburg is an attractive and thriving community located in the mountains of southwest virginia known as being a “ special place ”, blacksbu rg is renowned for its quality of life, natural beauty, civic pride, and educational leadership its population of more than 43, 000 residents in 2006 includes a diverse mix of students, professionals, retirees, and workers in local industries and commercia l establishments the town of blacksburg is a “ whole life community ” with varied housing opportunities and neighborhoods ; emphasizes economic development within its historical downtown area ; and promotes environmental stewardship that includes protecting its natural surroundings, open space, and watersheds the town of blacksburg is also noted for its open government, strong citizen involvement, and commitment to regional collaboration with the surrounding counties and towns of the new river valley and beyo nd blacksburg is home to virginia tech polytechnic institute and state university ( virginia tech ), the state ’ s larg est research university, with 6, 900 faculty and staff members and just over 28, 800 students as of 2013 these students, faculty, and staff come from across the world to study and work and they contribute immeasurably to the town ’ s lively intellectual quality their presence offers a unique set of opportunities, as students often use blacksburg as a “ living laboratory ”, engaging their particu lar area of scholarship to explore real - world challenges the town is facing, and in return receive practical, hands - on experience in their respective fields also, since virginia tech uses the most electricity, and generates the most ghgs in the area, it i s essential that the university and the town work together to investigate their energy policies and reduce their respective carbon footprints the composi tion of the mayor ’ s task f orce on climate protection and sustainability reflects the collaborative nat ure of this effort : town staff and officials, vt faculty, students and administrators, citizens, businesses, and non - governmental organizations are working together to lead blacksburg toward a sustainable energy future the cap focuses its recommendations on clean and renewable energy sources, energy efficiency, community design and transportation options to reduce vehicle emissions, and informed citizens practicing energy conservation in their homes and businesses 1. 1 sustainability and climate action planning in blacksburg 1. 1. 1 town ’ s work to date on environmental sustainability one of the goals of blacksburg ’ s comprehensive plan, blacksburg 2046, is to retain the beauty and functions of the natural and rural environments that characterize blacksburg t he town works with numerous local partners and local non - governmental organizations ( ngo ) to 4 collaborate on initiatives that promote sustainability in the area as a result of these and other efforts, t he town is designated an ex emplary environmental enterprise ( e3 ) by the virginia department of environmental quality after the town became a signatory to the mayor ’ s climate protection agreement in 2006, it established the mayor ’ s task force on climate protection and sustainability to assist staff with implementation of the agreement the town joined iclei local governments for sustainability in 2007 in addition to steps the town of blacksburg has taken on climate action planning, the town has also implemented numerous other sustainability initiatives in recent years, including : adopted a policy that requires the us green building council ( usgbc ) leed silver designation for all new building construction or renovation over 5, 000 sq ft adopted a green fleet policy that encourages the purchase of low emitting, fuel efficient vehicles adopted a green commuting policy and provides free transit service for town employees has provided curbside recycling to town residents since 1992 has hosted household hazardous waste collection days for over ten years partnered with the ymca at virginia tech to provide electronics recycling to residents free of charge installed recycling services in all town facilities including collection of batteries, cell phones, and other electronics has been designated a tree city usa recipient for over ten years and established a municipal tree nursery in 2007 to provide a minimum two - to - one replacement for trees removed on town property implemented a biodiesel ( b20 ) conversion program in 2007, which has con verted all diesel fuel vehicles in the public works and parks and recreation departments to b20 along with some blacksburg transit vehicles hosts sustainability week each year in conjunction with in partnership with virginia tech and sustainable blacksbu rg this sustainability awareness and education event is scheduled to continue in the future 1. 1. 2 climate action planning process on november 28, 2006 the blacksburg town council passed resolution 11 - e - 06 endorsing the u. s mayors ’ climate protection a greement ( usmcpa ) and authorized mayor ron rordam to sign the agreement the resolution directed the town of blacksburg to work in conjunction with appropriate supporting organizations such as iclei - local governments for sustainability to track progress and access technical resources that would support implementation of the usmcpa 5 in january 2007, blacksburg established the mayor ’ s task force on climate protection and sustainability to implement the usmcpa and steer the town ’ s climate action planning process the fourteen members of the mayor ’ s task force represent a cross - section of the community, including representatives from the town, the university, citizens, businesses, and non - governmental organizat ions the immediate goals of the mayor ’ s task force were to prepare a community greenhouse gas inventory and emissions forecast, adopt emission reduction targets, and work with university and community partners to draft the blacksburg energy conservation and climate action plan ( cap ) table 1 lists the current members of the mayor ’ s task force on climate protection and sustainability and identifies their respective affiliations table 1 - 1 mayor ’ s task force – fall 2009 name affiliation mayor ron rordam mayor of blacksburg pat bixler executive director of sustainable blacksburg david roper community representative bill claus community representative joe meredith industry representative todd holt industry representative joyce graham industry representative sean mcginnis university representative john randolph university representative denny cochrane university representative fran debellis electric company representative kelly mattingly town of blacksburg susan garrison town of blacksburg under direction and ongoing guidance from the mayors ’ task force, s tudents and faculty in the urban affairs and planning ( uap ) program at virginia tech gathered data on local energy consumption trends and completed the initial town of blacksbu rg energy use and greenhouse gas emissions inventory in the spring of 2008, followed by an investigation of greenhouse gas reduction and climate mitigation options, and developed a framework for the eventual cap a public forum was held during sustainabi lity week, in october 2008, during which the public asked questions, voiced ideas, and raised concerns about cap - related issues uap prepared a preliminary draft of the cap at that time, which suggested a number of initiatives to reduce ghg emissions and e valuated their approximate costs, benefits, and feasibility this draft report was submitted to the mayor ’ s task force for review 6 in november 2008, the mayor ’ s task force sub - committee on climate change recommended a target for the town of blacksburg to reduce communitywide ghg emissions to 80 % below 1990 levels by 2050, a number which reflects the consensus understanding from the scientific community as to the global emissions reductions that must be achieved to reduce the likelihood of catastrophic, lon g - term climate change this local target applies to town operations and communitywide emissions from transportation and the residential, commercial, and industrial sectors, but does not include virginia tech virginia tech adopted a separate climate acti on commitment and sustainability plan in june, 2009 by addressing ghgs and energy use, blacksburg aims to sustain and enhance the quality of life its residents already enjoy fewer ghg emissions mean improved physical health for everyone from newborns to grandparents ; increased building efficiencies decrease families ’ monthly utility bills ; and a focus on greener development and retrofitting older buildings for increased energy efficiency creates jobs 11 chapter 2 baseline and projected energy sources and uses 2. 1 baseline ghg emissions inventory the town of blacksburg ’ s ghg emissions inventory was completed in early 2008, based on data from 2000 - 2006 this baseline inventory was subsequently updated in early 2010 *, and again in 2013 in 2012, the blacksburg community, not including virginia tech, consumed a total of 3. 0 trillion british thermal units ( btu ) of end use energy and emitted a total of 363, 411 metric tons of co 2 - equivalent ghg emissions ( hereafter referred to as tons co 2 - e ) this includes all electricity, natural gas, and other fuels consumed by the town ’ s residents, businesses, and institutions other than virginia tech figure 2 - 1 illustrates the total end - use energy consumption and r esulting ghg emissions by energy source for 2012 electricity represent s the largest source of energy use ( 39 percent ), followed by transportation fuels ( 32 percent ), and natural gas ( 2 8 percent ) other fuels – fuel oil, propane, and wood – combine for a pproximately 1 percent when converted to ghg emissions, electricity accounts for a far greater portion ( 6 8 percent ) than any other fuel source, because over 88 percent of the electricity blacksburg receives from the grid comes from coal - fired power plant s burning coal generates greater ghg emissions per unit of usable energy than natural gas or transportation fuels furthermore, ghg emissions are measured in terms of the fuel consumed at the point of generation, and the massive conversion and transmiss ion losses associated with coal - fired power plants mean that each unit of end - use energy consumption represents about three units of energy consumed at the power plant ( i. e., only about 1 / 3 of the energy consumed at the power plant makes it to the consumer as end - use electricity consumption ) * baseline inventory updates : revised natural gas consumption figures to adjust for the fact that the local natural gas provider, atmos energy, had reported natural gas consumption in apartment buildings as par t of the commercial sector shifted approximately 1 / 3 of the reported commercial sector consumption to the residential sector ( details in appendix a ) used data on natural gas consumption in tob facilities for the years 2003 - 2005 and 2008 to estimate the tob ’ s yearly natural gas consumption for the years 2000 - 2009 removed vt water consumption percentages from water / wastewater energy use calculations 13 estimated for water and waste water processing and distribution and town of blacksburg government operations these combined for less than 6 percent of total ghg emissions 2. 2 ghg emission projections estimates of future energy use and ghg emissions in blacksburg are based on projections from the the u. s energy information administration ( eia ) annual energy outlook 2013 nationwide projections from that report were compared to us population projections from the 2010 census to determine current and projected per capita energy use and ghg emission estimates for 201 3 – 2050 current us per capita estimates were compared to current blacksburg per capita energy use and ghg emissions data to determine the proportion by which the eia projections needed to be scaled down for each sector finally the resulting per capita projections for blacksburg were multiplied by blacksburg population projections from the weldon cooper center to arrive at estimates for total energy use and ghg emissions for the town from 20 13 - 2050 table 2 - 1 summari zes the resulting ghg emissions projections from this analysis table 2 - 1 growth rates and projections by sector / source * fuel type sector 2012 - 2050 aagr ghg emissions ( metric tons ) 2012 2030 2050 natural gas residential - 0. 26 % 14, 361 14, 942 13, 022 natural gas commercial 0. 69 % 9, 589 11, 706 12, 445 natural gas industrial 0. 37 % 16, 989 18, 056 19, 585 natural gas public authority 0. 45 % 2, 232 2, 635 2, 650 total 0. 26 % 43, 170 47, 339 47, 701 bottled, tank, or lp gas residential 0. 00 % 93 96 93 fuel oil, kerosene, etc residential - 2. 08 % 2, 569 1, 785 1, 155 total - 1. 97 % 2, 662 1, 881 1, 248 electricity residential 0. 86 % 106, 036 126, 040 147, 082 electricity commercial 0. 81 % 79, 943 93, 266 108, 542 electricity industrial 0. 43 % 49, 748 56, 362 58, 572 electricity public authority 0. 83 % 10, 751 13, 006 14, 718 total 0. 76 % 246, 479 288, 674 328, 914\n",
      "Total Number of Sentences 19\n"
     ]
    }
   ],
   "source": [
    "txt = text_processor.replace_words_with_synonyms()\n",
    "print(txt)\n",
    "\n",
    "doc = nlp(txt)\n",
    "lst_docs = [sent for sent in doc.sents]\n",
    "print(\"Total Number of Sentences\", len(lst_docs))"
   ]
  },
  {
   "cell_type": "markdown",
   "id": "7ae259c5",
   "metadata": {},
   "source": [
    "# Extracting Metadata"
   ]
  },
  {
   "cell_type": "code",
   "execution_count": 12,
   "id": "2488037b",
   "metadata": {},
   "outputs": [
    {
     "name": "stdout",
     "output_type": "stream",
     "text": [
      "Source:  ./uploads/ClimateActionPlan.pdf\n",
      "Number of pages:  7\n",
      "Author:  Lesley Howard\n",
      "Creator:  Microsoft® Office Word 2007\n",
      "Creation Date:  D:20230511032043Z00'00'\n",
      "ModDate:  D:20230511032043Z00'00'\n",
      "Producer:  macOS Version 13.2.1 (Build 22D68) Quartz PDFContext\n",
      "There are 8 types of fonts in the given pdf document\n",
      "For font key:  G1\n",
      "   Font Sub Type:  Type0\n",
      "   Base Font:  AAAAAF+TimesNewRomanPS-ItalicMT\n",
      "   Font Encoding:  Identity-H\n",
      "For font key:  G2\n",
      "   Font Sub Type:  Type0\n",
      "   Base Font:  AAAAAG+TimesNewRomanPSMT\n",
      "   Font Encoding:  Identity-H\n",
      "For font key:  G3\n",
      "   Font Sub Type:  Type0\n",
      "   Base Font:  AAAAAH+SymbolMT\n",
      "   Font Encoding:  Identity-H\n",
      "For font key:  TT1\n",
      "   Font Sub Type:  TrueType\n",
      "   Base Font:  AAAAAB+TimesNewRomanPSMT\n",
      "   Font Encoding:  MacRomanEncoding\n",
      "For font key:  TT2\n",
      "   Font Sub Type:  TrueType\n",
      "   Base Font:  AAAAAC+TimesNewRomanPS-BoldMT\n",
      "   Font Encoding:  MacRomanEncoding\n",
      "For font key:  TT3\n",
      "   Font Sub Type:  TrueType\n",
      "   Base Font:  AAAAAD+TimesNewRomanPS-BoldMT\n",
      "   Font Encoding:  None\n",
      "For font key:  TT4\n",
      "   Font Sub Type:  TrueType\n",
      "   Base Font:  AAAAAE+TimesNewRomanPS-ItalicMT\n",
      "   Font Encoding:  MacRomanEncoding\n",
      "For font key:  TT5\n",
      "   Font Sub Type:  TrueType\n",
      "   Base Font:  AAAAAI+ArialMT\n",
      "   Font Encoding:  MacRomanEncoding\n",
      "AAAAAF+TimesNewRomanPS-ItalicMT,AAAAAG+TimesNewRomanPSMT,AAAAAH+SymbolMT,AAAAAB+TimesNewRomanPSMT,AAAAAC+TimesNewRomanPS-BoldMT,AAAAAD+TimesNewRomanPS-BoldMT,AAAAAE+TimesNewRomanPS-ItalicMT,AAAAAI+ArialMT\n",
      "Data has been saved to ./metadata/ClimateActionPlan.csv\n",
      "Data has been saved to ./metadata/ClimateActionPlan.csv\n"
     ]
    }
   ],
   "source": [
    "pdf_extractor.extract_metadata()# Save it in a csv with name same as name of pdf"
   ]
  },
  {
   "cell_type": "markdown",
   "id": "e46b5ed1",
   "metadata": {},
   "source": [
    "# Trying Topic Modelling"
   ]
  },
  {
   "cell_type": "code",
   "execution_count": 13,
   "id": "c710a086",
   "metadata": {
    "scrolled": true
   },
   "outputs": [
    {
     "name": "stdout",
     "output_type": "stream",
     "text": [
      "Number of topics: 1, Perplexity: -6.5194211919190455\n",
      "Number of topics: 2, Perplexity: -6.5657113450491815\n",
      "Number of topics: 3, Perplexity: -6.637547379418371\n",
      "Number of topics: 4, Perplexity: -6.717257188810217\n",
      "Number of topics: 5, Perplexity: -6.726191338169035\n",
      "Final model with 5 topics and perplexity value as -6.726191338169035\n",
      "[(0, '0.030*\"energy\" + 0.025*\"town\" + 0.016*\"reduce\" + 0.016*\"blacksburg\" + 0.010*\"emissions\" + 0.010*\"sustainability\" + 0.010*\"local\" + 0.009*\"action\" + 0.009*\"climate\" + 0.007*\"greenhouse\"'), (1, '0.025*\"energy\" + 0.024*\"ghg\" + 0.023*\"emissions\" + 0.016*\"percent\" + 0.014*\"consumption\" + 0.014*\"gas\" + 0.014*\"natural\" + 0.010*\"electricity\" + 0.010*\"inventory\" + 0.010*\"power\"'), (2, '0.014*\"climate\" + 0.011*\"town\" + 0.011*\"local\" + 0.011*\"adopted\" + 0.011*\"policy\" + 0.008*\"action\" + 0.008*\"virginia\" + 0.008*\"strategies\" + 0.008*\"years\" + 0.008*\"green\"'), (3, '0.024*\"blacksburg\" + 0.019*\"climate\" + 0.019*\"mayor\" + 0.018*\"town\" + 0.016*\"representative\" + 0.012*\"protection\" + 0.012*\"task\" + 0.012*\"projections\" + 0.011*\"energy\" + 0.011*\"sustainability\"'), (4, '0.019*\"blacksburg\" + 0.018*\"town\" + 0.016*\"natural\" + 0.016*\"gas\" + 0.014*\"emissions\" + 0.014*\"community\" + 0.011*\"total\" + 0.011*\"electricity\" + 0.011*\"residential\" + 0.009*\"virginia\"')]\n"
     ]
    }
   ],
   "source": [
    "os.environ['TOKENIZERS_PARALLELISM']='true'\n",
    "max_num_topics = 10\n",
    "topic_model, corpus, id2word = text_processor.get_topics(max_num_topics)"
   ]
  },
  {
   "cell_type": "code",
   "execution_count": 14,
   "id": "fdd2f860-abbd-4481-8f29-1cc375b1a20c",
   "metadata": {},
   "outputs": [
    {
     "data": {
      "text/html": [
       "\n",
       "<link rel=\"stylesheet\" type=\"text/css\" href=\"https://cdn.jsdelivr.net/gh/bmabey/pyLDAvis@3.4.0/pyLDAvis/js/ldavis.v1.0.0.css\">\n",
       "\n",
       "\n",
       "<div id=\"ldavis_el5796130564322085506824418\" style=\"background-color:white;\"></div>\n",
       "<script type=\"text/javascript\">\n",
       "\n",
       "var ldavis_el5796130564322085506824418_data = {\"mdsDat\": {\"x\": [0.028119411929359617, -0.021224369070677214, 0.024768355001578035, -0.14260088513507815, 0.11093748727481775], \"y\": [-0.13363749817661089, 0.009332802204642169, 0.010119129660485596, 0.03534850847746471, 0.07883705783401852], \"topics\": [1, 2, 3, 4, 5], \"cluster\": [1, 1, 1, 1, 1], \"Freq\": [27.480821367663825, 19.796994195775, 18.60802542022505, 18.296601304144207, 15.817557712191913]}, \"tinfo\": {\"Term\": [\"energy\", \"representative\", \"percent\", \"natural\", \"reduce\", \"consumption\", \"ghg\", \"emissions\", \"protection\", \"electricity\", \"adopted\", \"policy\", \"residential\", \"task\", \"mayor\", \"power\", \"gas\", \"climate\", \"total\", \"force\", \"environmental\", \"community\", \"green\", \"plan\", \"years\", \"inventory\", \"local\", \"consumed\", \"governments\", \"town\", \"representative\", \"protection\", \"capita\", \"current\", \"estimates\", \"sustainable\", \"industry\", \"facilities\", \"tob\", \"compared\", \"program\", \"determine\", \"rordam\", \"ron\", \"per\", \"projections\", \"staff\", \"faculty\", \"data\", \"mayor\", \"task\", \"curbside\", \"provided\", \"installed\", \"batteries\", \"services\", \"phones\", \"cell\", \"yearly\", \"became\", \"force\", \"university\", \"students\", \"recycling\", \"us\", \"vehicles\", \"population\", \"agreement\", \"climate\", \"blacksburg\", \"sustainability\", \"town\", \"planning\", \"tech\", \"consumption\", \"energy\", \"virginia\", \"sector\", \"ghg\", \"emissions\", \"gas\", \"industrial\", \"tons\", \"authority\", \"chapter\", \"co\", \"metric\", \"residential\", \"communitywide\", \"open\", \"term\", \"environmental\", \"ft\", \"characterize\", \"comprehensive\", \"rural\", \"retain\", \"functions\", \"environments\", \"date\", \"trillion\", \"equivalent\", \"btu\", \"ex\", \"emitted\", \"hereafter\", \"surrounding\", \"emplary\", \"thermal\", \"enterprise\", \"referred\", \"total\", \"goals\", \"includes\", \"commercial\", \"community\", \"electricity\", \"natural\", \"gas\", \"blacksburg\", \"virginia\", \"town\", \"plan\", \"emissions\", \"including\", \"implementation\", \"force\", \"tech\", \"target\", \"task\", \"climate\", \"ghg\", \"mayor\", \"energy\", \"public\", \"action\", \"businesses\", \"fuel\", \"consumed\", \"university\", \"work\", \"design\", \"renewable\", \"sources\", \"technical\", \"joined\", \"signed\", \"would\", \"annual\", \"iclei\", \"uses\", \"resolution\", \"overall\", \"reduce\", \"collaborate\", \"promote\", \"awareness\", \"event\", \"education\", \"scheduled\", \"partnerships\", \"continue\", \"administration\", \"outlook\", \"primarily\", \"alternative\", \"prepared\", \"valuated\", \"approximate\", \"benefits\", \"feasibility\", \"well\", \"waste\", \"efficiency\", \"work\", \"carbon\", \"conservation\", \"november\", \"energy\", \"organizations\", \"cap\", \"town\", \"local\", \"action\", \"initiatives\", \"ghgs\", \"water\", \"quality\", \"plan\", \"greenhouse\", \"sustainability\", \"blacksburg\", \"emissions\", \"climate\", \"gas\", \"ghg\", \"area\", \"opportunities\", \"community\", \"citizens\", \"mayors\", \"governments\", \"transportation\", \"businesses\", \"percent\", \"power\", \"plant\", \"coal\", \"early\", \"unit\", \"greater\", \"fired\", \"mean\", \"beat\", \"protocol\", \"buildings\", \"urge\", \"kyoto\", \"increased\", \"based\", \"baseline\", \"source\", \"end\", \"table\", \"calculations\", \"wastewater\", \"percentages\", \"illustrates\", \"esulting\", \"figure\", \"ends\", \"reducing\", \"zes\", \"analysis\", \"inventory\", \"consumption\", \"meet\", \"ghg\", \"consumed\", \"policies\", \"levels\", \"three\", \"actions\", \"fuels\", \"emissions\", \"energy\", \"natural\", \"electricity\", \"gas\", \"blacksburg\", \"fuel\", \"town\", \"water\", \"transportation\", \"target\", \"adopted\", \"policy\", \"green\", \"municipal\", \"ten\", \"tree\", \"changes\", \"free\", \"provide\", \"household\", \"introduction\", \"days\", \"thriving\", \"mountains\", \"attractive\", \"southwest\", \"hazardous\", \"hosted\", \"century\", \"st\", \"located\", \"pressing\", \"acti\", \"require\", \"separate\", \"provides\", \"commuting\", \"purchase\", \"emitting\", \"efficient\", \"building\", \"one\", \"years\", \"address\", \"governments\", \"strategies\", \"local\", \"initiatives\", \"established\", \"climate\", \"report\", \"change\", \"action\", \"residents\", \"virginia\", \"public\", \"town\", \"plan\", \"tech\", \"community\", \"sustainability\", \"blacksburg\"], \"Freq\": [21.0, 7.0, 5.0, 10.0, 6.0, 7.0, 14.0, 16.0, 5.0, 7.0, 3.0, 3.0, 4.0, 7.0, 11.0, 3.0, 14.0, 16.0, 6.0, 7.0, 3.0, 8.0, 2.0, 5.0, 3.0, 4.0, 7.0, 3.0, 4.0, 24.0, 6.698046345274685, 5.23094735582941, 3.059659265852504, 3.058089475152122, 2.971748059373476, 2.3307473278434263, 2.329891007406669, 1.603890519852464, 1.6033303403142434, 1.6023679555754402, 1.6023844457935137, 1.6022931153549533, 1.6020787425199994, 1.601772453794956, 3.0601053799177786, 4.887754498490318, 2.3321178698733593, 2.330954772835284, 2.3319841917741844, 7.8699290592984035, 5.123152459063062, 0.8752647700659262, 0.8752451574396969, 0.8751151872002073, 0.8749379905373597, 0.8749291111891663, 0.8749005216394887, 0.8748306577570004, 0.8748142651141818, 0.8747394248936949, 4.383211980296815, 3.7897916751495213, 2.3318667111673186, 1.6051006481633874, 1.6028102642057753, 1.6027093713922376, 1.6019436983672566, 2.96645186968953, 8.052144993256697, 10.161224760091956, 4.522541247932717, 7.455335704357186, 2.357827388328071, 3.0619630176200334, 3.059984972053267, 4.800947258444913, 3.0613857624122103, 2.3343361457176206, 3.5056997593854202, 3.2742176889412016, 3.0735377846539773, 2.131096211335541, 2.1296192244704306, 1.4654092619022114, 1.464387630115732, 1.464611160395146, 1.4642425463117348, 3.4667125462033828, 1.4629919014276667, 1.4629796705255855, 1.4625364057639547, 2.7959583480963404, 0.8001165130371068, 0.7996206694550353, 0.7995443317558392, 0.7995145980111246, 0.7995043353001829, 0.7994909797174506, 0.799398545026435, 0.7993945383516153, 0.7990647960432091, 0.7990432162332154, 0.7990105302017916, 0.7989586543067577, 0.7990016733416638, 0.7990019545118267, 0.7989316619711304, 0.7988802078313407, 0.7989385506401186, 0.7988795049059337, 0.7989334895771885, 3.4708654295077186, 2.1317426215397837, 1.4646427920384593, 2.133416849274088, 4.1257917156411, 3.4693800075377252, 4.795174928034402, 4.795140062934217, 5.591560172426269, 2.801228039287259, 5.470374145244914, 2.131721252607412, 4.264538225339198, 1.4653164757484924, 1.4650367114365213, 2.1301118345956302, 2.1335058396306095, 1.4638597331351029, 2.1303803521010902, 2.7956555278310207, 2.377824294445199, 2.1340298002289595, 1.568328928873151, 1.469425215337271, 1.4677509876029673, 1.4667691413945216, 1.4666358667373616, 1.4662928391387637, 1.4661033304490465, 1.4657326075894144, 1.4179147232401654, 1.4176990677961332, 1.4170864583362472, 1.4171110367140598, 1.4171950789091605, 1.4170244838244512, 1.417021708846311, 1.4169461237274468, 1.41668580434954, 1.4158699607763443, 1.413685920838252, 1.4096063065468243, 4.634051223853355, 0.774266736431485, 0.7742652828715069, 0.7738596074957843, 0.7738207578018226, 0.7737997472530475, 0.7737589154318427, 0.7737591136445671, 0.7737552815318973, 0.7736212897302743, 0.7735667151601853, 0.7735364546842763, 0.7735084406192427, 0.7735027585211462, 0.7734836640287059, 0.7734730926834101, 0.7734448804056523, 0.7734322608622055, 1.4186214176731833, 1.4185492682415402, 1.4300717703302235, 2.0587901104614157, 1.4062106582960283, 1.417851823735656, 1.4134931259284216, 8.513233337041942, 1.417372413226496, 2.0617400443661813, 7.204502903703015, 2.7087275191537743, 2.695428502488148, 1.4194383183809087, 1.4152626369891061, 1.4172496534792496, 1.4185945928844954, 2.061030839238656, 2.0651322569297563, 2.709748182542074, 4.617659824405104, 2.7107405675817082, 2.6768934984975603, 2.06313559408703, 2.0650073829134508, 1.4205637702294525, 1.420197208831324, 1.4195505067828593, 1.418811834030322, 1.4186823350504496, 1.4186363496984133, 1.4185704109321315, 1.4185439825688921, 4.446045071479358, 2.729877476055326, 2.0801254634046358, 2.0799886468099804, 1.4307692184152185, 1.430285358017786, 1.4301747873415733, 1.4298561982721574, 1.4285064824266873, 1.4285192155950408, 1.4281811369822266, 1.4279978053439941, 1.4279602554903803, 1.4274740563477397, 1.423268732603565, 1.271834070887505, 2.0833195397070225, 2.0820661022059395, 2.0811972583612475, 2.0829158462981012, 0.7815490104387209, 0.7815290011741655, 0.7815234791368693, 0.7814909965645389, 0.7813550894819088, 0.7813094189852123, 0.7812032659388368, 0.7810607324114512, 0.7806832849209727, 0.7806412524723773, 2.732936554787108, 4.035210953717398, 1.428587299066645, 6.642438654283205, 2.0807992818850565, 1.4304845411513156, 1.4308971997502002, 1.4304466015068338, 1.4291554842218475, 1.6852185902985544, 6.302153825156373, 6.94637522511181, 4.033712597620943, 2.7340739645398267, 4.034504652664647, 2.169355999108099, 1.5540166732356153, 1.4402449044851353, 1.4338561022289154, 1.4328143211691367, 1.4317721503184901, 2.5671958383555165, 2.5664675180557377, 1.9559048390104148, 1.344698870274032, 1.3444720845421916, 1.3438284578738182, 1.3438485641868443, 1.341835237065741, 1.3400898069086986, 0.7341575892881027, 0.7341299009855278, 0.7341083344374776, 0.7340732326340105, 0.7340694135577933, 0.7340421745583028, 0.7340408266490497, 0.734041275952134, 0.7340361089666636, 0.7340461621231766, 0.7340061741486669, 0.7339572001124696, 0.7339512468466015, 0.7338230269788968, 0.7338016850823887, 0.7337931483237856, 0.7337620902480779, 0.7336131462756061, 0.7335290704359417, 0.7335235103102725, 0.733512277733163, 1.3443608820288078, 1.3453265466829099, 1.9566778649670893, 1.3452144455633572, 1.9541327876456231, 1.956753572536807, 2.569254994391226, 1.3454135991555083, 1.3449510416301398, 3.3150147687385974, 1.2418330632950578, 1.3538989125555523, 1.958573250028543, 1.3391257148153919, 1.9573704656716597, 1.345287794291882, 2.5761129320196487, 1.34619763303775, 1.3435264138753444, 1.3512745332396932, 1.346575609257484, 1.3525411186345582], \"Total\": [21.0, 7.0, 5.0, 10.0, 6.0, 7.0, 14.0, 16.0, 5.0, 7.0, 3.0, 3.0, 4.0, 7.0, 11.0, 3.0, 14.0, 16.0, 6.0, 7.0, 3.0, 8.0, 2.0, 5.0, 3.0, 4.0, 7.0, 3.0, 4.0, 24.0, 7.228241315676048, 5.767021127187666, 3.5800112885849718, 3.579749682412197, 3.5724261842657206, 2.8502517751487106, 2.850134823752997, 2.120715988134631, 2.1206619594535403, 2.1204969070901463, 2.1205223755295983, 2.1204835608557255, 2.120482618536414, 2.120450788747537, 4.231522953510728, 7.054293839534551, 3.495669136014961, 3.495532227772729, 3.501811141960121, 11.899321228317032, 7.750114501819274, 1.3909303346227668, 1.3909282686826003, 1.3909168764443955, 1.3908962249315406, 1.390895107954933, 1.3908917224270523, 1.3908835450885637, 1.3908933879990375, 1.390873002847605, 7.018554161848629, 6.289048899465551, 4.107723663860797, 2.7334740071528345, 2.732635673185763, 2.732714683452886, 2.7325985960472323, 5.473863331211263, 16.977977727512002, 23.892341874665984, 9.512460471540717, 24.146570589809897, 4.756014220504369, 7.450828329276708, 7.489000415216103, 21.961222999451568, 8.729753690352075, 4.835791541272672, 14.735632134901248, 16.70250093925092, 14.09491179625152, 2.662176964042296, 2.6622132978828845, 1.9951594993766317, 1.9948534696314983, 1.9951597708061986, 1.9951666601725428, 4.725572216501735, 1.9949819353617262, 1.9949954049557346, 1.9948702778472196, 3.9411115341482716, 1.3280583887320003, 1.3281003167737593, 1.328098733033244, 1.3280972662035795, 1.328100083712026, 1.3281003546772097, 1.3280964334740828, 1.3280960593888715, 1.3281174096860668, 1.328107597609299, 1.3281130575582258, 1.3280318865980758, 1.328111033075211, 1.3281187671453878, 1.3280726433246495, 1.3280246589826374, 1.3281231101569464, 1.3280316947498074, 1.3281281585687705, 6.026303598188742, 3.9195361564739493, 2.6071577487234223, 4.043184253245861, 8.637067979954693, 7.247617172572689, 10.698712638100984, 14.09491179625152, 23.892341874665984, 8.729753690352075, 24.146570589809897, 5.8223321467044675, 16.70250093925092, 3.3368711899068977, 3.3698657269557692, 7.018554161848629, 7.450828329276708, 3.9100933028533307, 7.750114501819274, 16.977977727512002, 14.735632134901248, 11.899321228317032, 21.961222999451568, 4.600570862134264, 7.8733363510803045, 4.01538543465752, 5.355144075700853, 3.9498142725034087, 6.289048899465551, 3.931098718811435, 1.9517188643853445, 1.9517281381583547, 1.951671824354894, 1.9517996201589594, 1.951927962898083, 1.9518001507974259, 1.9517993917812417, 1.9517664086163051, 1.9519394152284468, 1.9516878389365944, 1.952127613924468, 1.9518292405961668, 6.512185999478723, 1.3063943381025689, 1.306394360514226, 1.3064460370039312, 1.3064495333424102, 1.3064533822118012, 1.3064576495250995, 1.3064645333612985, 1.3064590862426508, 1.3064179159726832, 1.3064196847011658, 1.3063933492536148, 1.3063945371108447, 1.3064491188777985, 1.3064554877438344, 1.3064515121532572, 1.3064489003581294, 1.3064419244877623, 2.5639010021948954, 2.5638551186886844, 2.6031261421177176, 3.931098718811435, 2.5640314341458685, 2.61868026495982, 2.6189016107881438, 21.961222999451568, 2.6813518762241744, 4.605984147725085, 24.146570589809897, 7.739301999713364, 7.8733363510803045, 3.1759390152229665, 3.2154375842237335, 3.2547366606221693, 3.27009485391419, 5.8223321467044675, 5.987042115557249, 9.512460471540717, 23.892341874665984, 16.70250093925092, 16.977977727512002, 14.09491179625152, 14.735632134901248, 3.3481887312648633, 3.348167325610847, 8.637067979954693, 3.348337754119515, 3.4110746364885447, 4.440413337098531, 3.9217806365831294, 4.01538543465752, 5.247884697284989, 3.2672158299435923, 2.6156973801388492, 2.615770610671773, 1.9640336594925132, 1.9642437975043294, 1.9642561971428698, 1.9642073296139781, 1.9641724784465708, 1.9642428205062832, 1.9642095897147518, 1.9641653863466648, 1.9642376717704426, 1.9642260658333537, 1.9641060748718242, 1.9682094066661031, 3.2607235714390606, 3.282737335745286, 3.2826349203385785, 3.3454319299769493, 1.3126196235330634, 1.312619929595845, 1.3126194939018614, 1.312614156089031, 1.312611876482761, 1.3126117194753761, 1.312629787662818, 1.3126328212234635, 1.3127287088217783, 1.3127365697071782, 4.663631235914524, 7.489000415216103, 2.576327068312575, 14.735632134901248, 3.9498142725034087, 2.6095527855883796, 2.6309754205816875, 2.631059547163628, 2.631127920899923, 3.3303893789166636, 16.70250093925092, 21.961222999451568, 10.698712638100984, 7.247617172572689, 14.09491179625152, 23.892341874665984, 5.355144075700853, 24.146570589809897, 3.2547366606221693, 3.9217806365831294, 3.9100933028533307, 3.109654815584442, 3.109687645128331, 2.497526530768132, 1.885368678754639, 1.8854028630569255, 1.8854615245632846, 1.885497923046474, 1.8855176800818918, 1.8856365888634694, 1.2731918268750562, 1.2732243931309553, 1.2731962381389454, 1.2731922883720186, 1.2731924698697266, 1.2731941881130067, 1.2731942922670212, 1.273202029955987, 1.273201979703231, 1.2732404484196103, 1.2732479080096943, 1.2731995641852296, 1.2732583317598505, 1.2732202540463322, 1.2732028600468386, 1.273222799785404, 1.2732180392238028, 1.273231432905546, 1.2732480078559876, 1.2732489104672036, 1.2732501450516094, 2.5369420507337788, 2.5523083261203023, 3.956932828932951, 2.615033737960505, 4.440413337098531, 4.476733546585067, 7.739301999713364, 3.1759390152229665, 3.344904899935178, 16.977977727512002, 3.2802460664210904, 3.948130641795988, 7.8733363510803045, 3.9273063451168424, 8.729753690352075, 4.600570862134264, 24.146570589809897, 5.8223321467044675, 7.450828329276708, 8.637067979954693, 9.512460471540717, 23.892341874665984], \"Category\": [\"Default\", \"Default\", \"Default\", \"Default\", \"Default\", \"Default\", \"Default\", \"Default\", \"Default\", \"Default\", \"Default\", \"Default\", \"Default\", \"Default\", \"Default\", \"Default\", \"Default\", \"Default\", \"Default\", \"Default\", \"Default\", \"Default\", \"Default\", \"Default\", \"Default\", \"Default\", \"Default\", \"Default\", \"Default\", \"Default\", \"Topic1\", \"Topic1\", \"Topic1\", \"Topic1\", \"Topic1\", \"Topic1\", \"Topic1\", \"Topic1\", \"Topic1\", \"Topic1\", \"Topic1\", \"Topic1\", \"Topic1\", \"Topic1\", \"Topic1\", \"Topic1\", \"Topic1\", \"Topic1\", \"Topic1\", \"Topic1\", \"Topic1\", \"Topic1\", \"Topic1\", \"Topic1\", \"Topic1\", \"Topic1\", \"Topic1\", \"Topic1\", \"Topic1\", \"Topic1\", \"Topic1\", \"Topic1\", \"Topic1\", \"Topic1\", \"Topic1\", \"Topic1\", \"Topic1\", \"Topic1\", \"Topic1\", \"Topic1\", \"Topic1\", \"Topic1\", \"Topic1\", \"Topic1\", \"Topic1\", \"Topic1\", \"Topic1\", \"Topic1\", \"Topic1\", \"Topic1\", \"Topic1\", \"Topic2\", \"Topic2\", \"Topic2\", \"Topic2\", \"Topic2\", \"Topic2\", \"Topic2\", \"Topic2\", \"Topic2\", \"Topic2\", \"Topic2\", \"Topic2\", \"Topic2\", \"Topic2\", \"Topic2\", \"Topic2\", \"Topic2\", \"Topic2\", \"Topic2\", \"Topic2\", \"Topic2\", \"Topic2\", \"Topic2\", \"Topic2\", \"Topic2\", \"Topic2\", \"Topic2\", \"Topic2\", \"Topic2\", \"Topic2\", \"Topic2\", \"Topic2\", \"Topic2\", \"Topic2\", \"Topic2\", \"Topic2\", \"Topic2\", \"Topic2\", \"Topic2\", \"Topic2\", \"Topic2\", \"Topic2\", \"Topic2\", \"Topic2\", \"Topic2\", \"Topic2\", \"Topic2\", \"Topic2\", \"Topic2\", \"Topic2\", \"Topic2\", \"Topic2\", \"Topic2\", \"Topic2\", \"Topic2\", \"Topic2\", \"Topic2\", \"Topic2\", \"Topic2\", \"Topic2\", \"Topic3\", \"Topic3\", \"Topic3\", \"Topic3\", \"Topic3\", \"Topic3\", \"Topic3\", \"Topic3\", \"Topic3\", \"Topic3\", \"Topic3\", \"Topic3\", \"Topic3\", \"Topic3\", \"Topic3\", \"Topic3\", \"Topic3\", \"Topic3\", \"Topic3\", \"Topic3\", \"Topic3\", \"Topic3\", \"Topic3\", \"Topic3\", \"Topic3\", \"Topic3\", \"Topic3\", \"Topic3\", \"Topic3\", \"Topic3\", \"Topic3\", \"Topic3\", \"Topic3\", \"Topic3\", \"Topic3\", \"Topic3\", \"Topic3\", \"Topic3\", \"Topic3\", \"Topic3\", \"Topic3\", \"Topic3\", \"Topic3\", \"Topic3\", \"Topic3\", \"Topic3\", \"Topic3\", \"Topic3\", \"Topic3\", \"Topic3\", \"Topic3\", \"Topic3\", \"Topic3\", \"Topic3\", \"Topic3\", \"Topic3\", \"Topic3\", \"Topic3\", \"Topic3\", \"Topic3\", \"Topic3\", \"Topic3\", \"Topic3\", \"Topic4\", \"Topic4\", \"Topic4\", \"Topic4\", \"Topic4\", \"Topic4\", \"Topic4\", \"Topic4\", \"Topic4\", \"Topic4\", \"Topic4\", \"Topic4\", \"Topic4\", \"Topic4\", \"Topic4\", \"Topic4\", \"Topic4\", \"Topic4\", \"Topic4\", \"Topic4\", \"Topic4\", \"Topic4\", \"Topic4\", \"Topic4\", \"Topic4\", \"Topic4\", \"Topic4\", \"Topic4\", \"Topic4\", \"Topic4\", \"Topic4\", \"Topic4\", \"Topic4\", \"Topic4\", \"Topic4\", \"Topic4\", \"Topic4\", \"Topic4\", \"Topic4\", \"Topic4\", \"Topic4\", \"Topic4\", \"Topic4\", \"Topic4\", \"Topic4\", \"Topic4\", \"Topic4\", \"Topic4\", \"Topic4\", \"Topic4\", \"Topic4\", \"Topic5\", \"Topic5\", \"Topic5\", \"Topic5\", \"Topic5\", \"Topic5\", \"Topic5\", \"Topic5\", \"Topic5\", \"Topic5\", \"Topic5\", \"Topic5\", \"Topic5\", \"Topic5\", \"Topic5\", \"Topic5\", \"Topic5\", \"Topic5\", \"Topic5\", \"Topic5\", \"Topic5\", \"Topic5\", \"Topic5\", \"Topic5\", \"Topic5\", \"Topic5\", \"Topic5\", \"Topic5\", \"Topic5\", \"Topic5\", \"Topic5\", \"Topic5\", \"Topic5\", \"Topic5\", \"Topic5\", \"Topic5\", \"Topic5\", \"Topic5\", \"Topic5\", \"Topic5\", \"Topic5\", \"Topic5\", \"Topic5\", \"Topic5\", \"Topic5\", \"Topic5\", \"Topic5\", \"Topic5\", \"Topic5\", \"Topic5\", \"Topic5\", \"Topic5\"], \"logprob\": [30.0, 29.0, 28.0, 27.0, 26.0, 25.0, 24.0, 23.0, 22.0, 21.0, 20.0, 19.0, 18.0, 17.0, 16.0, 15.0, 14.0, 13.0, 12.0, 11.0, 10.0, 9.0, 8.0, 7.0, 6.0, 5.0, 4.0, 3.0, 2.0, 1.0, -4.1363, -4.3835, -4.9198, -4.9203, -4.9489, -5.1919, -5.1922, -5.5656, -5.566, -5.5666, -5.5666, -5.5666, -5.5668, -5.567, -4.9196, -4.4513, -5.1913, -5.1918, -5.1913, -3.975, -4.4043, -6.1713, -6.1713, -6.1715, -6.1717, -6.1717, -6.1717, -6.1718, -6.1718, -6.1719, -4.5603, -4.7058, -5.1914, -5.5649, -5.5663, -5.5664, -5.5669, -4.9507, -3.9521, -3.7195, -4.529, -4.0291, -5.1803, -4.919, -4.9197, -4.4693, -4.9192, -5.1903, -4.7837, -4.852, -4.9152, -4.9535, -4.9542, -5.328, -5.3287, -5.3285, -5.3288, -4.4669, -5.3296, -5.3296, -5.3299, -4.6819, -5.9331, -5.9337, -5.9338, -5.9339, -5.9339, -5.9339, -5.934, -5.934, -5.9344, -5.9344, -5.9345, -5.9346, -5.9345, -5.9345, -5.9346, -5.9347, -5.9346, -5.9347, -5.9346, -4.4657, -4.9532, -5.3285, -4.9524, -4.2929, -4.4661, -4.1425, -4.1425, -3.9889, -4.6801, -4.0108, -4.9532, -4.2598, -5.328, -5.3282, -4.9539, -4.9523, -5.329, -4.9538, -4.682, -4.8439, -4.9521, -5.2601, -5.3252, -5.3264, -5.327, -5.3271, -5.3274, -5.3275, -5.3278, -5.299, -5.2991, -5.2996, -5.2996, -5.2995, -5.2996, -5.2996, -5.2997, -5.2999, -5.3004, -5.302, -5.3049, -4.1147, -5.904, -5.904, -5.9045, -5.9046, -5.9046, -5.9047, -5.9047, -5.9047, -5.9048, -5.9049, -5.905, -5.905, -5.905, -5.905, -5.905, -5.9051, -5.9051, -5.2985, -5.2985, -5.2904, -4.9261, -5.3073, -5.299, -5.3021, -3.5066, -5.2994, -4.9246, -3.6735, -4.6517, -4.6566, -5.2979, -5.3009, -5.2995, -5.2985, -4.925, -4.923, -4.6513, -4.1183, -4.651, -4.6635, -4.9239, -4.923, -5.2971, -5.2974, -5.2978, -5.2984, -5.2984, -5.2985, -5.2985, -5.2985, -4.1393, -4.627, -4.8989, -4.8989, -5.2731, -5.2734, -5.2735, -5.2737, -5.2747, -5.2747, -5.2749, -5.275, -5.275, -5.2754, -5.2783, -5.3908, -4.8973, -4.8979, -4.8984, -4.8975, -5.8778, -5.8778, -5.8778, -5.8778, -5.878, -5.8781, -5.8782, -5.8784, -5.8789, -5.8789, -4.6259, -4.2362, -5.2746, -3.7378, -4.8985, -5.2733, -5.273, -5.2733, -5.2742, -5.1094, -3.7904, -3.6931, -4.2366, -4.6255, -4.2364, -4.8569, -5.1905, -5.2665, -5.2709, -5.2717, -5.2724, -4.5429, -4.5432, -4.8148, -5.1895, -5.1897, -5.1902, -5.1902, -5.1917, -5.193, -5.7947, -5.7948, -5.7948, -5.7948, -5.7949, -5.7949, -5.7949, -5.7949, -5.7949, -5.7949, -5.7949, -5.795, -5.795, -5.7952, -5.7952, -5.7952, -5.7953, -5.7955, -5.7956, -5.7956, -5.7956, -5.1898, -5.1891, -4.8145, -5.1891, -4.8158, -4.8144, -4.5421, -5.189, -5.1893, -4.2872, -5.2691, -5.1827, -4.8135, -5.1937, -4.8141, -5.1891, -4.5394, -5.1884, -5.1904, -5.1847, -5.1881, -5.1837], \"loglift\": [30.0, 29.0, 28.0, 27.0, 26.0, 25.0, 24.0, 23.0, 22.0, 21.0, 20.0, 19.0, 18.0, 17.0, 16.0, 15.0, 14.0, 13.0, 12.0, 11.0, 10.0, 9.0, 8.0, 7.0, 6.0, 5.0, 4.0, 3.0, 2.0, 1.0, 1.2155, 1.1941, 1.1346, 1.1342, 1.1076, 1.0905, 1.0901, 1.0124, 1.012, 1.0115, 1.0115, 1.0115, 1.0113, 1.0112, 0.9676, 0.9248, 0.8869, 0.8865, 0.8851, 0.8782, 0.8777, 0.8285, 0.8285, 0.8283, 0.8281, 0.8281, 0.8281, 0.828, 0.828, 0.8279, 0.8209, 0.7852, 0.7255, 0.7593, 0.7582, 0.7581, 0.7576, 0.6791, 0.5457, 0.4367, 0.5482, 0.1165, 0.59, 0.4024, 0.3967, -0.2288, 0.2438, 0.5634, -0.1442, -0.3378, -0.2313, 1.3971, 1.3964, 1.3111, 1.3105, 1.3105, 1.3103, 1.3099, 1.3095, 1.3095, 1.3092, 1.2764, 1.1129, 1.1123, 1.1122, 1.1121, 1.1121, 1.1121, 1.112, 1.112, 1.1116, 1.1115, 1.1115, 1.1115, 1.1115, 1.1115, 1.1114, 1.1114, 1.1114, 1.1114, 1.1114, 1.0679, 1.0106, 1.043, 0.9803, 0.8808, 0.8829, 0.8171, 0.5414, 0.1673, 0.483, 0.1348, 0.6149, 0.2544, 0.7967, 0.7866, 0.4273, 0.3691, 0.6372, 0.3282, -0.1842, -0.2044, -0.0988, -1.0196, 0.4783, -0.0601, 0.6126, 0.3246, 0.6287, 0.1634, 0.6331, 1.3621, 1.3619, 1.3615, 1.3614, 1.3614, 1.3614, 1.3614, 1.3613, 1.3611, 1.3606, 1.3589, 1.3561, 1.3413, 1.1585, 1.1585, 1.1579, 1.1578, 1.1578, 1.1578, 1.1578, 1.1578, 1.1576, 1.1575, 1.1575, 1.1575, 1.1574, 1.1574, 1.1574, 1.1574, 1.1574, 1.0897, 1.0897, 1.0826, 1.0348, 1.0809, 1.068, 1.0649, 0.7339, 1.0441, 0.8778, 0.4721, 0.6317, 0.6097, 0.8762, 0.8609, 0.8502, 0.8464, 0.6431, 0.6172, 0.4258, 0.0379, -0.1368, -0.1657, -0.24, -0.2836, 0.8242, 0.824, -0.1241, 0.8229, 0.8043, 0.5405, 0.6647, 0.6411, 1.5326, 1.5188, 1.4694, 1.4693, 1.3817, 1.3812, 1.3811, 1.3809, 1.38, 1.38, 1.3798, 1.3797, 1.3796, 1.3793, 1.3764, 1.2618, 1.2505, 1.2431, 1.2428, 1.2246, 1.18, 1.1799, 1.1799, 1.1799, 1.1797, 1.1797, 1.1795, 1.1793, 1.1788, 1.1787, 1.164, 1.0801, 1.1088, 0.9017, 1.0575, 1.0973, 1.0894, 1.0891, 1.0881, 1.0173, 0.7238, 0.5474, 0.723, 0.7236, 0.4475, -0.7007, 0.4612, -1.1209, 0.8787, 0.6915, 0.6938, 1.6524, 1.6521, 1.5996, 1.5061, 1.5059, 1.5054, 1.5054, 1.5039, 1.5025, 1.2935, 1.2934, 1.2934, 1.2934, 1.2934, 1.2933, 1.2933, 1.2933, 1.2933, 1.2933, 1.2932, 1.2932, 1.2932, 1.293, 1.293, 1.293, 1.2929, 1.2927, 1.2926, 1.2926, 1.2926, 1.209, 1.2037, 1.1398, 1.1793, 1.0232, 1.0164, 0.7414, 0.9851, 0.933, 0.2106, 0.8727, 0.7738, 0.4528, 0.7681, 0.3489, 0.6145, -0.3938, 0.3796, 0.131, -0.011, -0.111, -1.0275]}, \"token.table\": {\"Topic\": [5, 1, 2, 3, 5, 2, 4, 1, 5, 3, 5, 1, 3, 4, 5, 3, 4, 3, 3, 1, 2, 3, 5, 2, 3, 4, 3, 4, 1, 4, 1, 3, 1, 2, 3, 4, 5, 2, 4, 5, 4, 1, 2, 3, 4, 1, 2, 3, 5, 1, 3, 5, 1, 5, 1, 2, 5, 5, 2, 2, 1, 2, 3, 1, 2, 3, 5, 2, 4, 3, 1, 2, 4, 1, 2, 3, 5, 2, 5, 1, 2, 2, 3, 2, 4, 1, 4, 3, 1, 1, 1, 4, 2, 5, 3, 1, 4, 3, 3, 4, 5, 2, 3, 4, 1, 2, 3, 4, 2, 5, 2, 2, 4, 4, 1, 2, 3, 4, 2, 2, 5, 2, 2, 1, 5, 1, 4, 3, 2, 1, 1, 3, 3, 4, 4, 1, 2, 5, 2, 1, 2, 4, 5, 1, 2, 4, 2, 1, 2, 3, 4, 1, 2, 3, 4, 3, 4, 5, 2, 3, 5, 3, 4, 5, 4, 5, 1, 2, 3, 4, 5, 5, 2, 5, 5, 3, 4, 1, 2, 3, 2, 5, 1, 2, 5, 4, 2, 1, 3, 5, 1, 5, 1, 2, 4, 3, 4, 2, 4, 1, 2, 3, 4, 5, 5, 1, 2, 3, 5, 1, 3, 4, 4, 5, 2, 5, 5, 1, 2, 4, 2, 3, 2, 5, 2, 1, 2, 3, 1, 3, 3, 3, 3, 1, 4, 4, 4, 1, 2, 3, 5, 1, 3, 5, 4, 3, 4, 5, 1, 5, 4, 3, 5, 3, 1, 1, 2, 4, 3, 1, 4, 5, 1, 5, 1, 2, 4, 5, 5, 2, 3, 4, 1, 5, 2, 3, 4, 2, 3, 1, 3, 5, 1, 5, 1, 2, 1, 2, 3, 5, 3, 2, 1, 1, 2, 3, 1, 2, 4, 5, 1, 3, 2, 4, 3, 5, 5, 1, 3, 2, 3, 5, 1, 3, 5, 2, 1, 2, 3, 5, 1, 1, 4, 2, 4, 5, 1, 2, 1, 2, 3, 5, 3, 5, 2, 2, 2, 4, 5, 1, 2, 1, 2, 4, 1, 2, 3, 4, 5, 2, 3, 4, 5, 2, 4, 1, 2, 3, 4, 1, 5, 3, 3, 1, 5, 1, 2, 3, 5, 3, 5, 4, 3, 4, 3, 5, 2, 3, 3, 1, 1, 5, 4], \"Freq\": [0.7854100630444497, 0.2540219178780009, 0.12701095893900044, 0.38103287681700126, 0.2540219178780009, 0.38006513938629427, 0.38006513938629427, 0.38240424415323665, 0.38240424415323665, 0.7654518418445432, 0.9647373029845973, 0.548058988410322, 0.18268632947010735, 0.18268632947010735, 0.18268632947010735, 0.7654655401511008, 0.7617674582060756, 0.5123563944872609, 0.7654321577934627, 0.2986689461863832, 0.2986689461863832, 0.2986689461863832, 0.7854261426390061, 0.5012130610672683, 0.7654353656223697, 0.5080760190521968, 0.30668039718517703, 0.6133607943703541, 0.7189608987897135, 0.5091020262669206, 0.7189729025961745, 0.765433688011736, 0.4185441532880209, 0.25112649197281256, 0.20927207664401046, 0.08370883065760418, 0.04185441532880209, 0.7529479469455175, 0.394175341809941, 0.394175341809941, 0.5091220968209779, 0.24904209478094397, 0.24904209478094397, 0.24904209478094397, 0.7618353269078726, 0.21710886705806495, 0.21710886705806495, 0.4342177341161299, 0.21710886705806495, 0.8379861844474167, 0.39001081916654445, 0.39001081916654445, 0.718967453120833, 0.7853976059598439, 0.25328442514382055, 0.25328442514382055, 0.25328442514382055, 0.5303638830767102, 0.5012899519806465, 0.7529551701555306, 0.29865565347154227, 0.29865565347154227, 0.29865565347154227, 0.47119863910743515, 0.1766994896652882, 0.1766994896652882, 0.1766994896652882, 0.5012129928802257, 0.7645930387934006, 0.7654656567575288, 0.2473298116941373, 0.4946596233882746, 0.2473298116941373, 0.2315600623546894, 0.4631201247093788, 0.1157800311773447, 0.1157800311773447, 0.5012576716985069, 0.785403167213658, 0.9431751554613215, 0.752956068044806, 0.38187174409218816, 0.38187174409218816, 0.2531764612228706, 0.5063529224457411, 0.4005875061649909, 0.5341166748866545, 0.7654277202633105, 0.7189432677598546, 0.838047424025041, 0.5711330277167689, 0.28556651385838444, 0.7529575838513923, 0.7854248779918785, 0.512368875583385, 0.9431810917661139, 0.5091562434110167, 0.765431062153185, 0.38415349291773904, 0.38415349291773904, 0.7853916246437705, 0.41392914782433093, 0.13797638260811032, 0.41392914782433093, 0.17961382016449956, 0.2394850935526661, 0.17961382016449956, 0.3592276403289991, 0.7529490946886591, 0.7853923861855588, 0.7529980661398803, 0.30463332788065806, 0.6092666557613161, 0.7618294277631275, 0.22767402344235854, 0.09106960937694342, 0.4098132421962454, 0.31874363281930196, 0.7529940768381989, 0.7612065718024246, 0.2537355239341415, 0.7529573717656659, 0.752951042370423, 0.5979243236597724, 0.2989621618298862, 0.839765426984357, 0.7618398232686823, 0.7654333171535588, 0.7529939680602311, 0.9430777205387072, 0.5721589359438843, 0.28607946797194217, 0.7654377751173946, 0.7618399143957661, 0.5091112251355503, 0.5699179500164224, 0.2849589750082112, 0.5303583257604713, 0.75297894165239, 0.18673633909076953, 0.18673633909076953, 0.37347267818153906, 0.18673633909076953, 0.30026519010977876, 0.30026519010977876, 0.6005303802195575, 0.7529551486664926, 0.21284276506063962, 0.35473794176773266, 0.14189517670709306, 0.2837903534141861, 0.2714508589370948, 0.1357254294685474, 0.1357254294685474, 0.4750390031399159, 0.3109996614166649, 0.3109996614166649, 0.3109996614166649, 0.5102644599148738, 0.2551322299574369, 0.2551322299574369, 0.22520426007310013, 0.22520426007310013, 0.45040852014620025, 0.5090985592686742, 0.8007922940401702, 0.33405477385953686, 0.16702738692976843, 0.33405477385953686, 0.16702738692976843, 0.16702738692976843, 0.7854213050811494, 0.7529447100196959, 0.7854213360814037, 0.7854275992757643, 0.5123109827068911, 0.7618385001876917, 0.2967477285521903, 0.2967477285521903, 0.2967477285521903, 0.3835594530057276, 0.3835594530057276, 0.29968193049366737, 0.29968193049366737, 0.29968193049366737, 0.5091374711344239, 0.7512648584274297, 0.7017211899353036, 0.3148675069662177, 0.3148675069662177, 0.7189502240826229, 0.7854075097798937, 0.21442518703001676, 0.21442518703001676, 0.6432755610900502, 0.5123139885322774, 0.5091063688617401, 0.3800871692594179, 0.3800871692594179, 0.12921061874017017, 0.12921061874017017, 0.3876318562205105, 0.12921061874017017, 0.3876318562205105, 0.7854228261850995, 0.672307255724995, 0.16807681393124874, 0.08403840696562437, 0.08403840696562437, 0.5863254877526971, 0.29316274387634855, 0.5091202585176645, 0.3881494753905501, 0.3881494753905501, 0.5012112621777268, 0.7854272026147943, 0.5304002401591501, 0.18693837919129297, 0.4673459479782324, 0.37387675838258594, 0.3818394688371113, 0.3818394688371113, 0.39180219324052984, 0.39180219324052984, 0.5012542873612224, 0.2986708556501303, 0.2986708556501303, 0.2986708556501303, 0.37294620257307665, 0.37294620257307665, 0.765450805518705, 0.5123399010533114, 0.7654245289209495, 0.7089646051691668, 0.23632153505638895, 0.7622118683494349, 0.7618354021449307, 0.7189632261633124, 0.3435049649532674, 0.3435049649532674, 0.1717524824766337, 0.42052018923271905, 0.21026009461635953, 0.21026009461635953, 0.7646144447695374, 0.3832074237097789, 0.3832074237097789, 0.9647271180756148, 0.7319040575125255, 0.36595202875626276, 0.9182129850453725, 0.7654335599835459, 0.7853865747870953, 0.7654662361618211, 0.9431638274981663, 0.7087881669995625, 0.14175763339991249, 0.14175763339991249, 0.7654656436256948, 0.8669987311869429, 0.509110639331123, 0.5303248812130499, 0.7189443356034003, 0.7854114293021124, 0.21736432933370517, 0.21736432933370517, 0.21736432933370517, 0.21736432933370517, 0.7853929429537394, 0.3058015270728416, 0.3058015270728416, 0.3058015270728416, 0.731669660939335, 0.3658348304696675, 0.1535582675433482, 0.7677913377167409, 0.761827667136901, 0.7529393858177279, 0.5123664410267699, 0.30485517846868393, 0.30485517846868393, 0.30485517846868393, 0.9684236724110116, 0.7854207930095382, 0.21161458426304272, 0.6348437527891282, 0.25462744999339965, 0.25462744999339965, 0.25462744999339965, 0.25462744999339965, 0.5122615923605761, 0.7529553022879197, 0.9431956688706356, 0.9431815109054877, 0.7529568996543009, 0.7654285620077332, 0.4135827574307814, 0.2067913787153907, 0.2067913787153907, 0.7854084926601578, 0.7189614761607181, 0.5123475370116356, 0.3046238238774496, 0.6092476477548991, 0.5123812249175346, 0.7854260783870013, 0.7853930045431389, 0.5721365272801494, 0.2860682636400747, 0.22337715425632557, 0.22337715425632557, 0.44675430851265113, 0.48688766909900305, 0.24344383454950153, 0.24344383454950153, 0.7529708597088755, 0.5256263629119878, 0.10512527258239758, 0.3153758177471927, 0.10512527258239758, 0.7016923969447053, 0.29891506416239955, 0.5978301283247991, 0.25574837287649, 0.25574837287649, 0.25574837287649, 0.6451517585741852, 0.2580607034296741, 0.40263979619716006, 0.2684265307981067, 0.13421326539905334, 0.13421326539905334, 0.5123476763042701, 0.5303906234546792, 0.5012857282525449, 0.7529422478627215, 0.3800750161956745, 0.3800750161956745, 0.7854273145800004, 0.9431017475861014, 0.7512546051777642, 0.1659392003251477, 0.4978176009754431, 0.1659392003251477, 0.2898962390524339, 0.20706874218030993, 0.2898962390524339, 0.041413748436061985, 0.12424124530818596, 0.25498621485143924, 0.25498621485143924, 0.25498621485143924, 0.5303741216525871, 0.7529454795991075, 0.5091017730439319, 0.6360262201713718, 0.15900655504284295, 0.15900655504284295, 0.5091033607448643, 0.7318941268406846, 0.3659470634203423, 0.5123770205715196, 0.7654298285561466, 0.731872965776627, 0.3659364828883135, 0.3436523075462635, 0.3436523075462635, 0.11455076918208784, 0.22910153836417568, 0.3900376400798585, 0.3900376400798585, 0.761835149271198, 0.3072445190723485, 0.3072445190723485, 0.3900306599763109, 0.3900306599763109, 0.2543818081226791, 0.5087636162453582, 0.5123477362534604, 0.7189623652166589, 0.5054419891528286, 0.5054419891528286, 0.7617720198239104], \"Term\": [\"acti\", \"action\", \"action\", \"action\", \"action\", \"actions\", \"actions\", \"address\", \"address\", \"administration\", \"adopted\", \"agreement\", \"agreement\", \"agreement\", \"agreement\", \"alternative\", \"analysis\", \"annual\", \"approximate\", \"area\", \"area\", \"area\", \"attractive\", \"authority\", \"awareness\", \"based\", \"baseline\", \"baseline\", \"batteries\", \"beat\", \"became\", \"benefits\", \"blacksburg\", \"blacksburg\", \"blacksburg\", \"blacksburg\", \"blacksburg\", \"btu\", \"building\", \"building\", \"buildings\", \"businesses\", \"businesses\", \"businesses\", \"calculations\", \"cap\", \"cap\", \"cap\", \"cap\", \"capita\", \"carbon\", \"carbon\", \"cell\", \"century\", \"change\", \"change\", \"change\", \"changes\", \"chapter\", \"characterize\", \"citizens\", \"citizens\", \"citizens\", \"climate\", \"climate\", \"climate\", \"climate\", \"co\", \"coal\", \"collaborate\", \"commercial\", \"commercial\", \"commercial\", \"community\", \"community\", \"community\", \"community\", \"communitywide\", \"commuting\", \"compared\", \"comprehensive\", \"conservation\", \"conservation\", \"consumed\", \"consumed\", \"consumption\", \"consumption\", \"continue\", \"curbside\", \"current\", \"data\", \"data\", \"date\", \"days\", \"design\", \"determine\", \"early\", \"education\", \"efficiency\", \"efficiency\", \"efficient\", \"electricity\", \"electricity\", \"electricity\", \"emissions\", \"emissions\", \"emissions\", \"emissions\", \"emitted\", \"emitting\", \"emplary\", \"end\", \"end\", \"ends\", \"energy\", \"energy\", \"energy\", \"energy\", \"enterprise\", \"environmental\", \"environmental\", \"environments\", \"equivalent\", \"established\", \"established\", \"estimates\", \"esulting\", \"event\", \"ex\", \"facilities\", \"faculty\", \"faculty\", \"feasibility\", \"figure\", \"fired\", \"force\", \"force\", \"free\", \"ft\", \"fuel\", \"fuel\", \"fuel\", \"fuel\", \"fuels\", \"fuels\", \"fuels\", \"functions\", \"gas\", \"gas\", \"gas\", \"gas\", \"ghg\", \"ghg\", \"ghg\", \"ghg\", \"ghgs\", \"ghgs\", \"ghgs\", \"goals\", \"goals\", \"goals\", \"governments\", \"governments\", \"governments\", \"greater\", \"green\", \"greenhouse\", \"greenhouse\", \"greenhouse\", \"greenhouse\", \"greenhouse\", \"hazardous\", \"hereafter\", \"hosted\", \"household\", \"iclei\", \"illustrates\", \"implementation\", \"implementation\", \"implementation\", \"includes\", \"includes\", \"including\", \"including\", \"including\", \"increased\", \"industrial\", \"industry\", \"initiatives\", \"initiatives\", \"installed\", \"introduction\", \"inventory\", \"inventory\", \"inventory\", \"joined\", \"kyoto\", \"levels\", \"levels\", \"local\", \"local\", \"local\", \"local\", \"local\", \"located\", \"mayor\", \"mayor\", \"mayor\", \"mayor\", \"mayors\", \"mayors\", \"mean\", \"meet\", \"meet\", \"metric\", \"mountains\", \"municipal\", \"natural\", \"natural\", \"natural\", \"november\", \"november\", \"one\", \"one\", \"open\", \"opportunities\", \"opportunities\", \"opportunities\", \"organizations\", \"organizations\", \"outlook\", \"overall\", \"partnerships\", \"per\", \"per\", \"percent\", \"percentages\", \"phones\", \"plan\", \"plan\", \"plan\", \"planning\", \"planning\", \"planning\", \"plant\", \"policies\", \"policies\", \"policy\", \"population\", \"population\", \"power\", \"prepared\", \"pressing\", \"primarily\", \"program\", \"projections\", \"projections\", \"projections\", \"promote\", \"protection\", \"protocol\", \"provide\", \"provided\", \"provides\", \"public\", \"public\", \"public\", \"public\", \"purchase\", \"quality\", \"quality\", \"quality\", \"recycling\", \"recycling\", \"reduce\", \"reduce\", \"reducing\", \"referred\", \"renewable\", \"report\", \"report\", \"report\", \"representative\", \"require\", \"residential\", \"residential\", \"residents\", \"residents\", \"residents\", \"residents\", \"resolution\", \"retain\", \"ron\", \"rordam\", \"rural\", \"scheduled\", \"sector\", \"sector\", \"sector\", \"separate\", \"services\", \"signed\", \"source\", \"source\", \"sources\", \"southwest\", \"st\", \"staff\", \"staff\", \"strategies\", \"strategies\", \"strategies\", \"students\", \"students\", \"students\", \"surrounding\", \"sustainability\", \"sustainability\", \"sustainability\", \"sustainability\", \"sustainable\", \"table\", \"table\", \"target\", \"target\", \"target\", \"task\", \"task\", \"tech\", \"tech\", \"tech\", \"tech\", \"technical\", \"ten\", \"term\", \"thermal\", \"three\", \"three\", \"thriving\", \"tob\", \"tons\", \"total\", \"total\", \"total\", \"town\", \"town\", \"town\", \"town\", \"town\", \"transportation\", \"transportation\", \"transportation\", \"tree\", \"trillion\", \"unit\", \"university\", \"university\", \"university\", \"urge\", \"us\", \"us\", \"uses\", \"valuated\", \"vehicles\", \"vehicles\", \"virginia\", \"virginia\", \"virginia\", \"virginia\", \"waste\", \"waste\", \"wastewater\", \"water\", \"water\", \"well\", \"well\", \"work\", \"work\", \"would\", \"yearly\", \"years\", \"years\", \"zes\"]}, \"R\": 30, \"lambda.step\": 0.01, \"plot.opts\": {\"xlab\": \"PC1\", \"ylab\": \"PC2\"}, \"topic.order\": [4, 5, 1, 2, 3]};\n",
       "\n",
       "function LDAvis_load_lib(url, callback){\n",
       "  var s = document.createElement('script');\n",
       "  s.src = url;\n",
       "  s.async = true;\n",
       "  s.onreadystatechange = s.onload = callback;\n",
       "  s.onerror = function(){console.warn(\"failed to load library \" + url);};\n",
       "  document.getElementsByTagName(\"head\")[0].appendChild(s);\n",
       "}\n",
       "\n",
       "if(typeof(LDAvis) !== \"undefined\"){\n",
       "   // already loaded: just create the visualization\n",
       "   !function(LDAvis){\n",
       "       new LDAvis(\"#\" + \"ldavis_el5796130564322085506824418\", ldavis_el5796130564322085506824418_data);\n",
       "   }(LDAvis);\n",
       "}else if(typeof define === \"function\" && define.amd){\n",
       "   // require.js is available: use it to load d3/LDAvis\n",
       "   require.config({paths: {d3: \"https://d3js.org/d3.v5\"}});\n",
       "   require([\"d3\"], function(d3){\n",
       "      window.d3 = d3;\n",
       "      LDAvis_load_lib(\"https://cdn.jsdelivr.net/gh/bmabey/pyLDAvis@3.4.0/pyLDAvis/js/ldavis.v3.0.0.js\", function(){\n",
       "        new LDAvis(\"#\" + \"ldavis_el5796130564322085506824418\", ldavis_el5796130564322085506824418_data);\n",
       "      });\n",
       "    });\n",
       "}else{\n",
       "    // require.js not available: dynamically load d3 & LDAvis\n",
       "    LDAvis_load_lib(\"https://d3js.org/d3.v5.js\", function(){\n",
       "         LDAvis_load_lib(\"https://cdn.jsdelivr.net/gh/bmabey/pyLDAvis@3.4.0/pyLDAvis/js/ldavis.v3.0.0.js\", function(){\n",
       "                 new LDAvis(\"#\" + \"ldavis_el5796130564322085506824418\", ldavis_el5796130564322085506824418_data);\n",
       "            })\n",
       "         });\n",
       "}\n",
       "</script>"
      ],
      "text/plain": [
       "PreparedData(topic_coordinates=              x         y  topics  cluster       Freq\n",
       "topic                                                \n",
       "3      0.028119 -0.133637       1        1  27.480821\n",
       "4     -0.021224  0.009333       2        1  19.796994\n",
       "0      0.024768  0.010119       3        1  18.608025\n",
       "1     -0.142601  0.035349       4        1  18.296601\n",
       "2      0.110937  0.078837       5        1  15.817558, topic_info=               Term       Freq      Total Category  logprob  loglift\n",
       "212          energy  21.000000  21.000000  Default  30.0000  30.0000\n",
       "560  representative   7.000000   7.000000  Default  29.0000  29.0000\n",
       "668         percent   5.000000   5.000000  Default  28.0000  28.0000\n",
       "250         natural  10.000000  10.000000  Default  27.0000  27.0000\n",
       "194          reduce   6.000000   6.000000  Default  26.0000  26.0000\n",
       "..              ...        ...        ...      ...      ...      ...\n",
       "7              plan   1.346198   5.822332   Topic5  -5.1884   0.3796\n",
       "310            tech   1.343526   7.450828   Topic5  -5.1904   0.1310\n",
       "16        community   1.351275   8.637068   Topic5  -5.1847  -0.0110\n",
       "361  sustainability   1.346576   9.512460   Topic5  -5.1881  -0.1110\n",
       "183      blacksburg   1.352541  23.892342   Topic5  -5.1837  -1.0275\n",
       "\n",
       "[307 rows x 6 columns], token_table=      Topic      Freq    Term\n",
       "term                         \n",
       "611       5  0.785410    acti\n",
       "0         1  0.254022  action\n",
       "0         2  0.127011  action\n",
       "0         3  0.381033  action\n",
       "0         5  0.254022  action\n",
       "...     ...       ...     ...\n",
       "200       3  0.512348   would\n",
       "721       1  0.718962  yearly\n",
       "417       1  0.505442   years\n",
       "417       5  0.505442   years\n",
       "753       4  0.761772     zes\n",
       "\n",
       "[383 rows x 3 columns], R=30, lambda_step=0.01, plot_opts={'xlab': 'PC1', 'ylab': 'PC2'}, topic_order=[4, 5, 1, 2, 3])"
      ]
     },
     "execution_count": 14,
     "metadata": {},
     "output_type": "execute_result"
    }
   ],
   "source": [
    "text_processor.visualize_topics(topic_model, corpus, id2word)"
   ]
  },
  {
   "cell_type": "markdown",
   "id": "f70b6d4c",
   "metadata": {},
   "source": [
    "# Extracting entities and relations (ML approach)"
   ]
  },
  {
   "cell_type": "code",
   "execution_count": 15,
   "id": "c855be37-2fc8-4324-b8ae-55796d893024",
   "metadata": {},
   "outputs": [],
   "source": [
    "# Create a set of stop words \n",
    "stop_words = spacy.lang.en.stop_words.STOP_WORDS"
   ]
  },
  {
   "cell_type": "code",
   "execution_count": 16,
   "id": "4fffa5ab-5f6a-48fb-9695-7d8d902214fe",
   "metadata": {},
   "outputs": [
    {
     "data": {
      "text/html": [
       "<div>\n",
       "<style scoped>\n",
       "    .dataframe tbody tr th:only-of-type {\n",
       "        vertical-align: middle;\n",
       "    }\n",
       "\n",
       "    .dataframe tbody tr th {\n",
       "        vertical-align: top;\n",
       "    }\n",
       "\n",
       "    .dataframe thead th {\n",
       "        text-align: right;\n",
       "    }\n",
       "</style>\n",
       "<table border=\"1\" class=\"dataframe\">\n",
       "  <thead>\n",
       "    <tr style=\"text-align: right;\">\n",
       "      <th></th>\n",
       "      <th>id</th>\n",
       "      <th>text</th>\n",
       "      <th>entity</th>\n",
       "      <th>relation</th>\n",
       "      <th>object</th>\n",
       "    </tr>\n",
       "  </thead>\n",
       "  <tbody>\n",
       "    <tr>\n",
       "      <th>0</th>\n",
       "      <td>0</td>\n",
       "      <td>2 reports and notes : the climate action plan ...</td>\n",
       "      <td>s</td>\n",
       "      <td>get_started</td>\n",
       "      <td>strategies</td>\n",
       "    </tr>\n",
       "    <tr>\n",
       "      <th>1</th>\n",
       "      <td>0</td>\n",
       "      <td>2 reports and notes : the climate action plan ...</td>\n",
       "      <td>scientists</td>\n",
       "      <td>have_been_predicting</td>\n",
       "      <td>changes_issions</td>\n",
       "    </tr>\n",
       "    <tr>\n",
       "      <th>2</th>\n",
       "      <td>0</td>\n",
       "      <td>2 reports and notes : the climate action plan ...</td>\n",
       "      <td>scientists</td>\n",
       "      <td>documenting</td>\n",
       "      <td>changes_issions</td>\n",
       "    </tr>\n",
       "    <tr>\n",
       "      <th>3</th>\n",
       "      <td>0</td>\n",
       "      <td>2 reports and notes : the climate action plan ...</td>\n",
       "      <td>change_impacts</td>\n",
       "      <td>span</td>\n",
       "      <td>boundaries</td>\n",
       "    </tr>\n",
       "    <tr>\n",
       "      <th>4</th>\n",
       "      <td>0</td>\n",
       "      <td>2 reports and notes : the climate action plan ...</td>\n",
       "      <td>world_leaders</td>\n",
       "      <td>have_sought</td>\n",
       "      <td>voluntary</td>\n",
       "    </tr>\n",
       "    <tr>\n",
       "      <th>...</th>\n",
       "      <td>...</td>\n",
       "      <td>...</td>\n",
       "      <td>...</td>\n",
       "      <td>...</td>\n",
       "      <td>...</td>\n",
       "    </tr>\n",
       "    <tr>\n",
       "      <th>85</th>\n",
       "      <td>6</td>\n",
       "      <td>* baseline inventory updates : revised natural...</td>\n",
       "      <td>projections_estimates</td>\n",
       "      <td>are_based</td>\n",
       "      <td>3_vt_consumption_percentages_emissions_project...</td>\n",
       "    </tr>\n",
       "    <tr>\n",
       "      <th>86</th>\n",
       "      <td>6</td>\n",
       "      <td>* baseline inventory updates : revised natural...</td>\n",
       "      <td>projections</td>\n",
       "      <td>were_compared</td>\n",
       "      <td>3_vt_consumption_percentages_emissions_project...</td>\n",
       "    </tr>\n",
       "    <tr>\n",
       "      <th>87</th>\n",
       "      <td>6</td>\n",
       "      <td>* baseline inventory updates : revised natural...</td>\n",
       "      <td>estimates</td>\n",
       "      <td>were_compared</td>\n",
       "      <td>3_vt_consumption_percentages_emissions_project...</td>\n",
       "    </tr>\n",
       "    <tr>\n",
       "      <th>88</th>\n",
       "      <td>6</td>\n",
       "      <td>* baseline inventory updates : revised natural...</td>\n",
       "      <td>eia_projections_projections</td>\n",
       "      <td>were_multiplied</td>\n",
       "      <td>blacksburg_population_projections</td>\n",
       "    </tr>\n",
       "    <tr>\n",
       "      <th>89</th>\n",
       "      <td>6</td>\n",
       "      <td>* baseline inventory updates : revised natural...</td>\n",
       "      <td>summari</td>\n",
       "      <td>zes</td>\n",
       "      <td>emissions_projections</td>\n",
       "    </tr>\n",
       "  </tbody>\n",
       "</table>\n",
       "<p>90 rows × 5 columns</p>\n",
       "</div>"
      ],
      "text/plain": [
       "    id                                               text  \\\n",
       "0    0  2 reports and notes : the climate action plan ...   \n",
       "1    0  2 reports and notes : the climate action plan ...   \n",
       "2    0  2 reports and notes : the climate action plan ...   \n",
       "3    0  2 reports and notes : the climate action plan ...   \n",
       "4    0  2 reports and notes : the climate action plan ...   \n",
       "..  ..                                                ...   \n",
       "85   6  * baseline inventory updates : revised natural...   \n",
       "86   6  * baseline inventory updates : revised natural...   \n",
       "87   6  * baseline inventory updates : revised natural...   \n",
       "88   6  * baseline inventory updates : revised natural...   \n",
       "89   6  * baseline inventory updates : revised natural...   \n",
       "\n",
       "                         entity              relation  \\\n",
       "0                             s           get_started   \n",
       "1                    scientists  have_been_predicting   \n",
       "2                    scientists           documenting   \n",
       "3                change_impacts                  span   \n",
       "4                 world_leaders           have_sought   \n",
       "..                          ...                   ...   \n",
       "85        projections_estimates             are_based   \n",
       "86                  projections         were_compared   \n",
       "87                    estimates         were_compared   \n",
       "88  eia_projections_projections       were_multiplied   \n",
       "89                      summari                   zes   \n",
       "\n",
       "                                               object  \n",
       "0                                          strategies  \n",
       "1                                     changes_issions  \n",
       "2                                     changes_issions  \n",
       "3                                          boundaries  \n",
       "4                                           voluntary  \n",
       "..                                                ...  \n",
       "85  3_vt_consumption_percentages_emissions_project...  \n",
       "86  3_vt_consumption_percentages_emissions_project...  \n",
       "87  3_vt_consumption_percentages_emissions_project...  \n",
       "88                  blacksburg_population_projections  \n",
       "89                              emissions_projections  \n",
       "\n",
       "[90 rows x 5 columns]"
      ]
     },
     "execution_count": 16,
     "metadata": {},
     "output_type": "execute_result"
    }
   ],
   "source": [
    "dtf = er_extractor.txt_er_extractor(txt)\n",
    "dtf"
   ]
  },
  {
   "cell_type": "markdown",
   "id": "1d1cb713",
   "metadata": {},
   "source": [
    "# Removing stopwords from the entities and creating a list of main topic words"
   ]
  },
  {
   "cell_type": "code",
   "execution_count": 17,
   "id": "52c73b6f",
   "metadata": {},
   "outputs": [
    {
     "name": "stdout",
     "output_type": "stream",
     "text": [
      "{'t_he_town': 6, 'that': 6, 'climate_planning_process_town_council': 5, 'forum': 5, 'governments': 5, 'town': 3, 'building_efficiencies': 3, 'units': 3, 'which': 3, 'town_council': 2, 'climate_action_plan': 2, 'scientists': 2, 'blacksburg': 2, 'virginia_tech': 2, 'baseline_inventory': 2, 'gas_fuels_fuel_oil_propane_wood': 2, 'state': 2, 'residents': 1, 'focus_retrofitting': 1, 'blacksburg_community': 1, 'virginia_virginia_tech': 1, 'coal': 1, 'this': 1, 'uap': 1, 'baseline_inventory_updates_consumption_figures': 1, 'gas_provider': 1, 'details': 1, 'projections_estimates': 1, 'projections': 1, 'estimates': 1, 'eia_projections_projections': 1, 'force_sub_committee': 1, 's': 1, 'public': 1, 'town_staff_officials_vt_faculty_students_administrators_citizens_businesses_organizations': 1, 'change_impacts': 1, 'world_leaders': 1, 'agreement': 1, 'towns_cities': 1, 'beauty_pride_leadership_population': 1, 'presence': 1, 'students': 1, 'cap': 1, 'task_force': 1, 'citizens': 1, 'it': 1, 'sq_ft': 1, 'transit_service': 1, 'con': 1, 'event': 1, 'resolution': 1, 'summari': 1}\n"
     ]
    }
   ],
   "source": [
    "# topic_words, word_scores, topic_nums = topic_model.get_topics()\n",
    "topic_words = set()\n",
    "for topic in topic_model.print_topics():\n",
    "    for word in topic[1].split(' + '):\n",
    "        topic_words.add(word.split('*')[1][1:-1])\n",
    "        \n",
    "tmp = dtf['entity'].value_counts().to_dict()\n",
    "# print(topic_words)\n",
    "print(tmp)\n",
    "# Function to remove stopwords from a list of words\n",
    "def remove_stopwords(texts):\n",
    "    return [[word for word in simple_preprocess(str(doc)) \n",
    "             if word not in stop_words] for doc in texts]\n",
    "        \n",
    "filtered_words = []\n",
    "for word in remove_stopwords(list(tmp.keys())):\n",
    "    filtered_words.extend(word)\n",
    "    \n",
    "# Remove the stop words and creating dict\n",
    "entity_dict = {}\n",
    "for word in filtered_words:\n",
    "    if word in tmp.keys():\n",
    "        entity_dict[word] = tmp[word]\n",
    "\n",
    "topic_words = list(topic_words)\n",
    "# print(topic_words)\n",
    "# print(entity_dict)"
   ]
  },
  {
   "cell_type": "markdown",
   "id": "74c60d15",
   "metadata": {},
   "source": [
    "# Ploting KG for topic words and other entites"
   ]
  },
  {
   "cell_type": "code",
   "execution_count": 18,
   "id": "e3a43e0f",
   "metadata": {},
   "outputs": [
    {
     "name": "stdout",
     "output_type": "stream",
     "text": [
      "Saved RDF graph for blacksburg in output/blacksburg.rdf\n",
      "Saved RDF graph for town in output/town.rdf\n",
      "Saved RDF graph for t_he_town in output/t_he_town.rdf\n",
      "Saved RDF graph for forum in output/forum.rdf\n",
      "Saved RDF graph for governments in output/governments.rdf\n"
     ]
    }
   ],
   "source": [
    "# Plotting topic based graphs and saving them\n",
    "graph_plotter = GraphPlotter(dtf, baseURL)\n",
    "graph_plotter.plot_topic_based_graphs(topic_words, entity_dict,5)"
   ]
  },
  {
   "cell_type": "markdown",
   "id": "3b20c2ab-5be8-455c-9815-f841f65ea206",
   "metadata": {},
   "source": [
    "# Noting in master csv"
   ]
  },
  {
   "cell_type": "code",
   "execution_count": 19,
   "id": "c6a7f6ab-e22a-43e2-9fdd-6aeb0b73058a",
   "metadata": {},
   "outputs": [],
   "source": [
    "append_to_master_csv(PDF_PATH)"
   ]
  },
  {
   "cell_type": "code",
   "execution_count": null,
   "id": "8068a1a4-fe7d-45aa-bba2-0a10934f354a",
   "metadata": {},
   "outputs": [],
   "source": []
  }
 ],
 "metadata": {
  "kernelspec": {
   "display_name": "kg_nvenv",
   "language": "python",
   "name": "kg_nvenv"
  },
  "language_info": {
   "codemirror_mode": {
    "name": "ipython",
    "version": 3
   },
   "file_extension": ".py",
   "mimetype": "text/x-python",
   "name": "python",
   "nbconvert_exporter": "python",
   "pygments_lexer": "ipython3",
   "version": "3.11.4"
  }
 },
 "nbformat": 4,
 "nbformat_minor": 5
}
